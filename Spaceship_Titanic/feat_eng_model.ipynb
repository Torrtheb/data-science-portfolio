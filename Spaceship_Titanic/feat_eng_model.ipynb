{
 "cells": [
  {
   "cell_type": "markdown",
   "id": "a4d41b85",
   "metadata": {},
   "source": [
    "# Notebook 2 Structure: \n",
    "- Variable Preprocessing\n",
    "- Model implementation\n",
    "- Feature engineering\n",
    "- Conclusion\n",
    "- References\n",
    "- Appendix\n"
   ]
  },
  {
   "cell_type": "markdown",
   "id": "a7332a2f",
   "metadata": {},
   "source": [
    "Importing necessary libraries: "
   ]
  },
  {
   "cell_type": "code",
   "execution_count": null,
   "id": "ebac4d81",
   "metadata": {},
   "outputs": [],
   "source": [
    "import pandas as pd\n",
    "import numpy as np\n",
    "import matplotlib.pylab as plt\n",
    "import seaborn as sns\n",
    "from tabulate import tabulate\n",
    "from skopt.space import Integer, Real, Categorical\n",
    "from sklearn.model_selection import train_test_split, StratifiedKFold, cross_val_score\n",
    "from sklearn.preprocessing import OneHotEncoder, OrdinalEncoder, StandardScaler, MinMaxScaler\n",
    "from sklearn.pipeline import Pipeline\n",
    "from sklearn.compose import ColumnTransformer\n",
    "from sklearn.metrics import (\n",
    "    make_scorer, recall_score, accuracy_score, balanced_accuracy_score, \n",
    "    f1_score, fbeta_score, roc_auc_score, average_precision_score, \n",
    "    matthews_corrcoef, confusion_matrix, confusion_matrix, \n",
    "    classification_report)\n",
    "from sklearn.dummy import DummyClassifier\n",
    "from sklearn.linear_model import LogisticRegression\n",
    "from sklearn.tree import DecisionTreeClassifier\n",
    "from sklearn.svm import SVC\n",
    "from sklearn.neighbors import KNeighborsClassifier\n",
    "from skopt import BayesSearchCV\n",
    "from sklearn.naive_bayes import GaussianNB\n",
    "from sklearn.ensemble import (\n",
    "    RandomForestClassifier, AdaBoostClassifier, StackingClassifier, \n",
    "    GradientBoostingClassifier, HistGradientBoostingClassifier)\n",
    "from xgboost import XGBClassifier\n",
    "from lightgbm import LGBMClassifier\n",
    "from sklearn.impute import SimpleImputer\n",
    "import shap\n",
    "from func_3 import format_cm_labels, get_results\n",
    "from preprocessing import (\n",
    "    add_indicators, preprocessing_initial, preprocessing_final)\n",
    "%matplotlib inline"
   ]
  },
  {
   "cell_type": "markdown",
   "id": "fe5ba06a",
   "metadata": {},
   "source": [
    "Importing training and test data: "
   ]
  },
  {
   "cell_type": "code",
   "execution_count": 2,
   "id": "c6d5f6ee",
   "metadata": {},
   "outputs": [],
   "source": [
    "train = pd.read_csv('../ml_3/train.csv', sep=',')"
   ]
  },
  {
   "cell_type": "code",
   "execution_count": 3,
   "id": "52261393",
   "metadata": {},
   "outputs": [
    {
     "data": {
      "text/html": [
       "<div>\n",
       "<style scoped>\n",
       "    .dataframe tbody tr th:only-of-type {\n",
       "        vertical-align: middle;\n",
       "    }\n",
       "\n",
       "    .dataframe tbody tr th {\n",
       "        vertical-align: top;\n",
       "    }\n",
       "\n",
       "    .dataframe thead th {\n",
       "        text-align: right;\n",
       "    }\n",
       "</style>\n",
       "<table border=\"1\" class=\"dataframe\">\n",
       "  <thead>\n",
       "    <tr style=\"text-align: right;\">\n",
       "      <th></th>\n",
       "      <th>PassengerId</th>\n",
       "      <th>HomePlanet</th>\n",
       "      <th>CryoSleep</th>\n",
       "      <th>Cabin</th>\n",
       "      <th>Destination</th>\n",
       "      <th>Age</th>\n",
       "      <th>VIP</th>\n",
       "      <th>RoomService</th>\n",
       "      <th>FoodCourt</th>\n",
       "      <th>ShoppingMall</th>\n",
       "      <th>Spa</th>\n",
       "      <th>VRDeck</th>\n",
       "      <th>Name</th>\n",
       "      <th>Transported</th>\n",
       "    </tr>\n",
       "  </thead>\n",
       "  <tbody>\n",
       "    <tr>\n",
       "      <th>0</th>\n",
       "      <td>0001_01</td>\n",
       "      <td>Europa</td>\n",
       "      <td>False</td>\n",
       "      <td>B/0/P</td>\n",
       "      <td>TRAPPIST-1e</td>\n",
       "      <td>39.0</td>\n",
       "      <td>False</td>\n",
       "      <td>0.0</td>\n",
       "      <td>0.0</td>\n",
       "      <td>0.0</td>\n",
       "      <td>0.0</td>\n",
       "      <td>0.0</td>\n",
       "      <td>Maham Ofracculy</td>\n",
       "      <td>False</td>\n",
       "    </tr>\n",
       "    <tr>\n",
       "      <th>1</th>\n",
       "      <td>0002_01</td>\n",
       "      <td>Earth</td>\n",
       "      <td>False</td>\n",
       "      <td>F/0/S</td>\n",
       "      <td>TRAPPIST-1e</td>\n",
       "      <td>24.0</td>\n",
       "      <td>False</td>\n",
       "      <td>109.0</td>\n",
       "      <td>9.0</td>\n",
       "      <td>25.0</td>\n",
       "      <td>549.0</td>\n",
       "      <td>44.0</td>\n",
       "      <td>Juanna Vines</td>\n",
       "      <td>True</td>\n",
       "    </tr>\n",
       "    <tr>\n",
       "      <th>2</th>\n",
       "      <td>0003_01</td>\n",
       "      <td>Europa</td>\n",
       "      <td>False</td>\n",
       "      <td>A/0/S</td>\n",
       "      <td>TRAPPIST-1e</td>\n",
       "      <td>58.0</td>\n",
       "      <td>True</td>\n",
       "      <td>43.0</td>\n",
       "      <td>3576.0</td>\n",
       "      <td>0.0</td>\n",
       "      <td>6715.0</td>\n",
       "      <td>49.0</td>\n",
       "      <td>Altark Susent</td>\n",
       "      <td>False</td>\n",
       "    </tr>\n",
       "    <tr>\n",
       "      <th>3</th>\n",
       "      <td>0003_02</td>\n",
       "      <td>Europa</td>\n",
       "      <td>False</td>\n",
       "      <td>A/0/S</td>\n",
       "      <td>TRAPPIST-1e</td>\n",
       "      <td>33.0</td>\n",
       "      <td>False</td>\n",
       "      <td>0.0</td>\n",
       "      <td>1283.0</td>\n",
       "      <td>371.0</td>\n",
       "      <td>3329.0</td>\n",
       "      <td>193.0</td>\n",
       "      <td>Solam Susent</td>\n",
       "      <td>False</td>\n",
       "    </tr>\n",
       "    <tr>\n",
       "      <th>4</th>\n",
       "      <td>0004_01</td>\n",
       "      <td>Earth</td>\n",
       "      <td>False</td>\n",
       "      <td>F/1/S</td>\n",
       "      <td>TRAPPIST-1e</td>\n",
       "      <td>16.0</td>\n",
       "      <td>False</td>\n",
       "      <td>303.0</td>\n",
       "      <td>70.0</td>\n",
       "      <td>151.0</td>\n",
       "      <td>565.0</td>\n",
       "      <td>2.0</td>\n",
       "      <td>Willy Santantines</td>\n",
       "      <td>True</td>\n",
       "    </tr>\n",
       "  </tbody>\n",
       "</table>\n",
       "</div>"
      ],
      "text/plain": [
       "  PassengerId HomePlanet CryoSleep  ... VRDeck               Name  Transported\n",
       "0     0001_01     Europa     False  ...    0.0    Maham Ofracculy        False\n",
       "1     0002_01      Earth     False  ...   44.0       Juanna Vines         True\n",
       "2     0003_01     Europa     False  ...   49.0      Altark Susent        False\n",
       "3     0003_02     Europa     False  ...  193.0       Solam Susent        False\n",
       "4     0004_01      Earth     False  ...    2.0  Willy Santantines         True\n",
       "\n",
       "[5 rows x 14 columns]"
      ]
     },
     "execution_count": 3,
     "metadata": {},
     "output_type": "execute_result"
    }
   ],
   "source": [
    "train.head()"
   ]
  },
  {
   "cell_type": "code",
   "execution_count": 4,
   "id": "e21831ef",
   "metadata": {},
   "outputs": [],
   "source": [
    "test = pd.read_csv('/Users/bt/Documents/turing/ml_3/test.csv', sep=',')"
   ]
  },
  {
   "cell_type": "code",
   "execution_count": 5,
   "id": "de8c01a5",
   "metadata": {},
   "outputs": [
    {
     "data": {
      "text/html": [
       "<div>\n",
       "<style scoped>\n",
       "    .dataframe tbody tr th:only-of-type {\n",
       "        vertical-align: middle;\n",
       "    }\n",
       "\n",
       "    .dataframe tbody tr th {\n",
       "        vertical-align: top;\n",
       "    }\n",
       "\n",
       "    .dataframe thead th {\n",
       "        text-align: right;\n",
       "    }\n",
       "</style>\n",
       "<table border=\"1\" class=\"dataframe\">\n",
       "  <thead>\n",
       "    <tr style=\"text-align: right;\">\n",
       "      <th></th>\n",
       "      <th>PassengerId</th>\n",
       "      <th>HomePlanet</th>\n",
       "      <th>CryoSleep</th>\n",
       "      <th>Cabin</th>\n",
       "      <th>Destination</th>\n",
       "      <th>Age</th>\n",
       "      <th>VIP</th>\n",
       "      <th>RoomService</th>\n",
       "      <th>FoodCourt</th>\n",
       "      <th>ShoppingMall</th>\n",
       "      <th>Spa</th>\n",
       "      <th>VRDeck</th>\n",
       "      <th>Name</th>\n",
       "    </tr>\n",
       "  </thead>\n",
       "  <tbody>\n",
       "    <tr>\n",
       "      <th>0</th>\n",
       "      <td>0013_01</td>\n",
       "      <td>Earth</td>\n",
       "      <td>True</td>\n",
       "      <td>G/3/S</td>\n",
       "      <td>TRAPPIST-1e</td>\n",
       "      <td>27.0</td>\n",
       "      <td>False</td>\n",
       "      <td>0.0</td>\n",
       "      <td>0.0</td>\n",
       "      <td>0.0</td>\n",
       "      <td>0.0</td>\n",
       "      <td>0.0</td>\n",
       "      <td>Nelly Carsoning</td>\n",
       "    </tr>\n",
       "    <tr>\n",
       "      <th>1</th>\n",
       "      <td>0018_01</td>\n",
       "      <td>Earth</td>\n",
       "      <td>False</td>\n",
       "      <td>F/4/S</td>\n",
       "      <td>TRAPPIST-1e</td>\n",
       "      <td>19.0</td>\n",
       "      <td>False</td>\n",
       "      <td>0.0</td>\n",
       "      <td>9.0</td>\n",
       "      <td>0.0</td>\n",
       "      <td>2823.0</td>\n",
       "      <td>0.0</td>\n",
       "      <td>Lerome Peckers</td>\n",
       "    </tr>\n",
       "    <tr>\n",
       "      <th>2</th>\n",
       "      <td>0019_01</td>\n",
       "      <td>Europa</td>\n",
       "      <td>True</td>\n",
       "      <td>C/0/S</td>\n",
       "      <td>55 Cancri e</td>\n",
       "      <td>31.0</td>\n",
       "      <td>False</td>\n",
       "      <td>0.0</td>\n",
       "      <td>0.0</td>\n",
       "      <td>0.0</td>\n",
       "      <td>0.0</td>\n",
       "      <td>0.0</td>\n",
       "      <td>Sabih Unhearfus</td>\n",
       "    </tr>\n",
       "    <tr>\n",
       "      <th>3</th>\n",
       "      <td>0021_01</td>\n",
       "      <td>Europa</td>\n",
       "      <td>False</td>\n",
       "      <td>C/1/S</td>\n",
       "      <td>TRAPPIST-1e</td>\n",
       "      <td>38.0</td>\n",
       "      <td>False</td>\n",
       "      <td>0.0</td>\n",
       "      <td>6652.0</td>\n",
       "      <td>0.0</td>\n",
       "      <td>181.0</td>\n",
       "      <td>585.0</td>\n",
       "      <td>Meratz Caltilter</td>\n",
       "    </tr>\n",
       "    <tr>\n",
       "      <th>4</th>\n",
       "      <td>0023_01</td>\n",
       "      <td>Earth</td>\n",
       "      <td>False</td>\n",
       "      <td>F/5/S</td>\n",
       "      <td>TRAPPIST-1e</td>\n",
       "      <td>20.0</td>\n",
       "      <td>False</td>\n",
       "      <td>10.0</td>\n",
       "      <td>0.0</td>\n",
       "      <td>635.0</td>\n",
       "      <td>0.0</td>\n",
       "      <td>0.0</td>\n",
       "      <td>Brence Harperez</td>\n",
       "    </tr>\n",
       "  </tbody>\n",
       "</table>\n",
       "</div>"
      ],
      "text/plain": [
       "  PassengerId HomePlanet CryoSleep  ...     Spa VRDeck              Name\n",
       "0     0013_01      Earth      True  ...     0.0    0.0   Nelly Carsoning\n",
       "1     0018_01      Earth     False  ...  2823.0    0.0    Lerome Peckers\n",
       "2     0019_01     Europa      True  ...     0.0    0.0   Sabih Unhearfus\n",
       "3     0021_01     Europa     False  ...   181.0  585.0  Meratz Caltilter\n",
       "4     0023_01      Earth     False  ...     0.0    0.0   Brence Harperez\n",
       "\n",
       "[5 rows x 13 columns]"
      ]
     },
     "execution_count": 5,
     "metadata": {},
     "output_type": "execute_result"
    }
   ],
   "source": [
    "test.head()"
   ]
  },
  {
   "cell_type": "markdown",
   "id": "a151d10a",
   "metadata": {},
   "source": [
    "Now, the training data can be split into training and validation data to test on models. Here, 20% of this data is reserved for validation."
   ]
  },
  {
   "cell_type": "code",
   "execution_count": 6,
   "id": "9ce96817",
   "metadata": {},
   "outputs": [],
   "source": [
    "tr, val = train_test_split(train, test_size=0.2, random_state=42, stratify=train['Transported'])"
   ]
  },
  {
   "cell_type": "markdown",
   "id": "58065d6a",
   "metadata": {},
   "source": [
    "In addition, x and y variables can now be defined: "
   ]
  },
  {
   "cell_type": "code",
   "execution_count": 7,
   "id": "8d549398",
   "metadata": {},
   "outputs": [],
   "source": [
    "tr_x = tr.drop(columns=['Transported'])\n",
    "tr_y = tr['Transported'].astype(int)\n",
    "val_x = val.drop(columns=['Transported'])\n",
    "val_y = val['Transported'].astype(int)"
   ]
  },
  {
   "cell_type": "markdown",
   "id": "676be882",
   "metadata": {},
   "source": [
    "# Variable Preprocessing"
   ]
  },
  {
   "cell_type": "markdown",
   "id": "e2a82306",
   "metadata": {},
   "source": [
    "Now, all preprocessing steps performed in the exploratory data analysis section will be agglomerated here to transform the test and training set in the same way. Functions for these transformations are defined in the preprocessing.py file. \n",
    "\n",
    "First, indicator variables are added for columns designated for missing value imputation (numeric variables and VIP column): "
   ]
  },
  {
   "cell_type": "code",
   "execution_count": 8,
   "id": "103b0115",
   "metadata": {},
   "outputs": [],
   "source": [
    "tr_x = add_indicators(tr_x)\n",
    "val_x = add_indicators(val_x)\n",
    "real_x_train = add_indicators(test)\n"
   ]
  },
  {
   "cell_type": "markdown",
   "id": "ad5474f9",
   "metadata": {},
   "source": [
    "Next, columns to standardize, drop, and encode are defined: "
   ]
  },
  {
   "cell_type": "code",
   "execution_count": 9,
   "id": "47975672",
   "metadata": {},
   "outputs": [],
   "source": [
    "standardize_cols = ['Age', 'group', 'RoomService', 'FoodCourt', 'ShoppingMall', 'Spa', 'VRDeck', 'tot_spend']\n",
    "ordinal_cols = ['RoomService_binned', 'FoodCourt_binned', 'ShoppingMall_binned', 'Spa_binned', 'VRDeck_binned', 'tot_spend_binned']\n",
    "onehot_cols = ['CryoSleep', 'HomePlanet', 'Destination', 'cabin_deck', 'cabin_side']\n",
    "imp_med_cols = ['Age', 'RoomService', 'FoodCourt', 'ShoppingMall', 'Spa', 'VRDeck']\n",
    "cols_to_drop = ['Name', 'first_name', 'last_name', 'Cabin']"
   ]
  },
  {
   "cell_type": "markdown",
   "id": "240acdcf",
   "metadata": {},
   "source": [
    "Now, a pipeline to impute missing values in numerical columns by their median is implemented: "
   ]
  },
  {
   "cell_type": "code",
   "execution_count": 10,
   "id": "f93294e6",
   "metadata": {},
   "outputs": [],
   "source": [
    "imp_num_pipeline = Pipeline(steps=[\n",
    "    ('imputer', SimpleImputer(strategy='median')),\n",
    "])\n",
    "preprocessor = ColumnTransformer([\n",
    "    ('imp', imp_num_pipeline, imp_med_cols)\n",
    "], remainder='passthrough')\n",
    "\n",
    "preprocessor.set_output(transform='pandas')\n",
    "preprocessor.fit(tr_x)\n",
    "\n",
    "tr_x = preprocessor.transform(tr_x)\n",
    "val_x = preprocessor.transform(val_x)\n",
    "real_x_train = preprocessor.transform(real_x_train)\n",
    "\n",
    "tr_x.columns = tr_x.columns.str.replace(r'^[^_]+__', '', regex=True)\n",
    "val_x.columns = val_x.columns.str.replace(r'^[^_]+__', '', regex=True)\n",
    "real_x_train.columns = real_x_train.columns.str.replace(r'^[^_]+__', '', regex=True)"
   ]
  },
  {
   "cell_type": "markdown",
   "id": "d2ccf68f",
   "metadata": {},
   "source": [
    "Now, the rest of the preprocessing transformations are applied to the data as seen in the exploratory data analysis section in the first notebook (adding the total amount spent per passenger, binning the skewed numerical variables, imputing missing values for categorical features, splitting the cabin variable into cabin_deck and cabin_side, splitting passenger ID into group number and size)."
   ]
  },
  {
   "cell_type": "code",
   "execution_count": 11,
   "id": "8794df12",
   "metadata": {},
   "outputs": [],
   "source": [
    "tr_x = preprocessing_initial(tr_x)\n",
    "val_x = preprocessing_initial(val_x)\n",
    "real_x_train = preprocessing_initial(real_x_train)"
   ]
  },
  {
   "cell_type": "markdown",
   "id": "058c801b",
   "metadata": {},
   "source": [
    "Now, another pipeline is applied to the data to standardize the numeric variables, and encode the categorical variables: "
   ]
  },
  {
   "cell_type": "code",
   "execution_count": 12,
   "id": "802a0d4a",
   "metadata": {},
   "outputs": [],
   "source": [
    "numeric_transformer = Pipeline(steps=[\n",
    "    ('scaler', StandardScaler())\n",
    "])\n",
    "ordinal_transformer = Pipeline(steps=[\n",
    "    ('ordinal', OrdinalEncoder())\n",
    "])\n",
    "onehot_transformer = Pipeline(steps=[\n",
    "    ('onehot', OneHotEncoder(sparse_output = False, handle_unknown='ignore'))\n",
    "])\n",
    "\n",
    "preprocessor = ColumnTransformer(\n",
    "    transformers = [\n",
    "        ('num', numeric_transformer, standardize_cols),\n",
    "        ('ord', ordinal_transformer, ordinal_cols),\n",
    "        ('onehot', onehot_transformer, onehot_cols)\n",
    "    ], \n",
    "    remainder='passthrough'\n",
    ")\n",
    "\n",
    "preprocessor.set_output(transform='pandas')\n",
    "preprocessor.fit(tr_x)\n",
    "x_train_processed = preprocessor.transform(tr_x)\n",
    "x_test_processed = preprocessor.transform(val_x)\n",
    "real_x_train = preprocessor.transform(real_x_train)\n",
    "\n",
    "x_train_processed.columns = x_train_processed.columns.str.replace(r'^[^_]+__', '', regex=True)\n",
    "x_test_processed.columns = x_test_processed.columns.str.replace(r'^[^_]+__', '', regex=True)\n",
    "real_x_train.columns = real_x_train.columns.str.replace(r'^[^_]+__', '', regex=True)\n"
   ]
  },
  {
   "cell_type": "markdown",
   "id": "a881f6f0",
   "metadata": {},
   "source": [
    "Next, the designated columns to drop are dropped, and the index is set to be the passenger ID: "
   ]
  },
  {
   "cell_type": "code",
   "execution_count": 13,
   "id": "49454887",
   "metadata": {},
   "outputs": [],
   "source": [
    "x_train_processed = x_train_processed.drop(cols_to_drop, axis=1)\n",
    "x_test_processed = x_test_processed.drop(cols_to_drop, axis=1)\n",
    "real_x_train = real_x_train.drop(cols_to_drop, axis=1)\n",
    "x_train_processed.set_index('PassengerId', inplace=True)\n",
    "x_test_processed.set_index('PassengerId', inplace=True)\n",
    "real_x_train.set_index('PassengerId', inplace=True)"
   ]
  },
  {
   "cell_type": "markdown",
   "id": "b81bc8fb",
   "metadata": {},
   "source": [
    "Looking at the processed dataset: "
   ]
  },
  {
   "cell_type": "code",
   "execution_count": 14,
   "id": "56e5cc11",
   "metadata": {},
   "outputs": [
    {
     "data": {
      "text/html": [
       "<div>\n",
       "<style scoped>\n",
       "    .dataframe tbody tr th:only-of-type {\n",
       "        vertical-align: middle;\n",
       "    }\n",
       "\n",
       "    .dataframe tbody tr th {\n",
       "        vertical-align: top;\n",
       "    }\n",
       "\n",
       "    .dataframe thead th {\n",
       "        text-align: right;\n",
       "    }\n",
       "</style>\n",
       "<table border=\"1\" class=\"dataframe\">\n",
       "  <thead>\n",
       "    <tr style=\"text-align: right;\">\n",
       "      <th></th>\n",
       "      <th>Age</th>\n",
       "      <th>group</th>\n",
       "      <th>RoomService</th>\n",
       "      <th>FoodCourt</th>\n",
       "      <th>ShoppingMall</th>\n",
       "      <th>Spa</th>\n",
       "      <th>VRDeck</th>\n",
       "      <th>tot_spend</th>\n",
       "      <th>RoomService_binned</th>\n",
       "      <th>FoodCourt_binned</th>\n",
       "      <th>ShoppingMall_binned</th>\n",
       "      <th>Spa_binned</th>\n",
       "      <th>VRDeck_binned</th>\n",
       "      <th>tot_spend_binned</th>\n",
       "      <th>CryoSleep_False</th>\n",
       "      <th>CryoSleep_True</th>\n",
       "      <th>CryoSleep_nan</th>\n",
       "      <th>HomePlanet_Earth</th>\n",
       "      <th>HomePlanet_Europa</th>\n",
       "      <th>HomePlanet_Mars</th>\n",
       "      <th>HomePlanet_Missing</th>\n",
       "      <th>Destination_55 Cancri e</th>\n",
       "      <th>Destination_Missing</th>\n",
       "      <th>Destination_PSO J318.5-22</th>\n",
       "      <th>Destination_TRAPPIST-1e</th>\n",
       "      <th>cabin_deck_0</th>\n",
       "      <th>cabin_deck_A</th>\n",
       "      <th>cabin_deck_B</th>\n",
       "      <th>cabin_deck_C</th>\n",
       "      <th>cabin_deck_D</th>\n",
       "      <th>cabin_deck_E</th>\n",
       "      <th>cabin_deck_F</th>\n",
       "      <th>cabin_deck_G</th>\n",
       "      <th>cabin_deck_T</th>\n",
       "      <th>cabin_side_0</th>\n",
       "      <th>cabin_side_P</th>\n",
       "      <th>cabin_side_S</th>\n",
       "      <th>VIP</th>\n",
       "      <th>RoomService_missing</th>\n",
       "      <th>FoodCourt_missing</th>\n",
       "      <th>ShoppingMall_missing</th>\n",
       "      <th>Spa_missing</th>\n",
       "      <th>VRDeck_missing</th>\n",
       "      <th>Age_missing</th>\n",
       "      <th>VIP_missing</th>\n",
       "      <th>group_size</th>\n",
       "    </tr>\n",
       "    <tr>\n",
       "      <th>PassengerId</th>\n",
       "      <th></th>\n",
       "      <th></th>\n",
       "      <th></th>\n",
       "      <th></th>\n",
       "      <th></th>\n",
       "      <th></th>\n",
       "      <th></th>\n",
       "      <th></th>\n",
       "      <th></th>\n",
       "      <th></th>\n",
       "      <th></th>\n",
       "      <th></th>\n",
       "      <th></th>\n",
       "      <th></th>\n",
       "      <th></th>\n",
       "      <th></th>\n",
       "      <th></th>\n",
       "      <th></th>\n",
       "      <th></th>\n",
       "      <th></th>\n",
       "      <th></th>\n",
       "      <th></th>\n",
       "      <th></th>\n",
       "      <th></th>\n",
       "      <th></th>\n",
       "      <th></th>\n",
       "      <th></th>\n",
       "      <th></th>\n",
       "      <th></th>\n",
       "      <th></th>\n",
       "      <th></th>\n",
       "      <th></th>\n",
       "      <th></th>\n",
       "      <th></th>\n",
       "      <th></th>\n",
       "      <th></th>\n",
       "      <th></th>\n",
       "      <th></th>\n",
       "      <th></th>\n",
       "      <th></th>\n",
       "      <th></th>\n",
       "      <th></th>\n",
       "      <th></th>\n",
       "      <th></th>\n",
       "      <th></th>\n",
       "      <th></th>\n",
       "    </tr>\n",
       "  </thead>\n",
       "  <tbody>\n",
       "    <tr>\n",
       "      <th>3868_04</th>\n",
       "      <td>-1.996149</td>\n",
       "      <td>-0.277637</td>\n",
       "      <td>-0.33634</td>\n",
       "      <td>-0.279076</td>\n",
       "      <td>-0.305732</td>\n",
       "      <td>-0.267311</td>\n",
       "      <td>-0.264632</td>\n",
       "      <td>-0.517737</td>\n",
       "      <td>0.0</td>\n",
       "      <td>0.0</td>\n",
       "      <td>0.0</td>\n",
       "      <td>0.0</td>\n",
       "      <td>0.0</td>\n",
       "      <td>0.0</td>\n",
       "      <td>1.0</td>\n",
       "      <td>0.0</td>\n",
       "      <td>0.0</td>\n",
       "      <td>1.0</td>\n",
       "      <td>0.0</td>\n",
       "      <td>0.0</td>\n",
       "      <td>0.0</td>\n",
       "      <td>0.0</td>\n",
       "      <td>0.0</td>\n",
       "      <td>0.0</td>\n",
       "      <td>1.0</td>\n",
       "      <td>0.0</td>\n",
       "      <td>0.0</td>\n",
       "      <td>0.0</td>\n",
       "      <td>0.0</td>\n",
       "      <td>0.0</td>\n",
       "      <td>0.0</td>\n",
       "      <td>0.0</td>\n",
       "      <td>1.0</td>\n",
       "      <td>0.0</td>\n",
       "      <td>0.0</td>\n",
       "      <td>0.0</td>\n",
       "      <td>1.0</td>\n",
       "      <td>0</td>\n",
       "      <td>0</td>\n",
       "      <td>0</td>\n",
       "      <td>0</td>\n",
       "      <td>0</td>\n",
       "      <td>0</td>\n",
       "      <td>0</td>\n",
       "      <td>0</td>\n",
       "      <td>7</td>\n",
       "    </tr>\n",
       "    <tr>\n",
       "      <th>1336_01</th>\n",
       "      <td>-0.811703</td>\n",
       "      <td>-1.226031</td>\n",
       "      <td>-0.33634</td>\n",
       "      <td>-0.279076</td>\n",
       "      <td>-0.305732</td>\n",
       "      <td>-0.267311</td>\n",
       "      <td>-0.264632</td>\n",
       "      <td>-0.517737</td>\n",
       "      <td>0.0</td>\n",
       "      <td>0.0</td>\n",
       "      <td>0.0</td>\n",
       "      <td>0.0</td>\n",
       "      <td>0.0</td>\n",
       "      <td>0.0</td>\n",
       "      <td>0.0</td>\n",
       "      <td>1.0</td>\n",
       "      <td>0.0</td>\n",
       "      <td>1.0</td>\n",
       "      <td>0.0</td>\n",
       "      <td>0.0</td>\n",
       "      <td>0.0</td>\n",
       "      <td>0.0</td>\n",
       "      <td>0.0</td>\n",
       "      <td>0.0</td>\n",
       "      <td>1.0</td>\n",
       "      <td>0.0</td>\n",
       "      <td>0.0</td>\n",
       "      <td>0.0</td>\n",
       "      <td>0.0</td>\n",
       "      <td>0.0</td>\n",
       "      <td>0.0</td>\n",
       "      <td>0.0</td>\n",
       "      <td>1.0</td>\n",
       "      <td>0.0</td>\n",
       "      <td>0.0</td>\n",
       "      <td>0.0</td>\n",
       "      <td>1.0</td>\n",
       "      <td>0</td>\n",
       "      <td>0</td>\n",
       "      <td>0</td>\n",
       "      <td>0</td>\n",
       "      <td>0</td>\n",
       "      <td>0</td>\n",
       "      <td>0</td>\n",
       "      <td>0</td>\n",
       "      <td>1</td>\n",
       "    </tr>\n",
       "    <tr>\n",
       "      <th>9193_01</th>\n",
       "      <td>0.442416</td>\n",
       "      <td>1.716911</td>\n",
       "      <td>-0.33634</td>\n",
       "      <td>-0.279076</td>\n",
       "      <td>-0.305732</td>\n",
       "      <td>-0.267311</td>\n",
       "      <td>-0.264632</td>\n",
       "      <td>-0.517737</td>\n",
       "      <td>0.0</td>\n",
       "      <td>0.0</td>\n",
       "      <td>0.0</td>\n",
       "      <td>0.0</td>\n",
       "      <td>0.0</td>\n",
       "      <td>0.0</td>\n",
       "      <td>0.0</td>\n",
       "      <td>0.0</td>\n",
       "      <td>1.0</td>\n",
       "      <td>1.0</td>\n",
       "      <td>0.0</td>\n",
       "      <td>0.0</td>\n",
       "      <td>0.0</td>\n",
       "      <td>0.0</td>\n",
       "      <td>0.0</td>\n",
       "      <td>1.0</td>\n",
       "      <td>0.0</td>\n",
       "      <td>0.0</td>\n",
       "      <td>0.0</td>\n",
       "      <td>0.0</td>\n",
       "      <td>0.0</td>\n",
       "      <td>0.0</td>\n",
       "      <td>0.0</td>\n",
       "      <td>0.0</td>\n",
       "      <td>1.0</td>\n",
       "      <td>0.0</td>\n",
       "      <td>0.0</td>\n",
       "      <td>0.0</td>\n",
       "      <td>1.0</td>\n",
       "      <td>0</td>\n",
       "      <td>0</td>\n",
       "      <td>0</td>\n",
       "      <td>0</td>\n",
       "      <td>0</td>\n",
       "      <td>0</td>\n",
       "      <td>0</td>\n",
       "      <td>0</td>\n",
       "      <td>1</td>\n",
       "    </tr>\n",
       "    <tr>\n",
       "      <th>5422_01</th>\n",
       "      <td>-0.184643</td>\n",
       "      <td>0.304434</td>\n",
       "      <td>-0.33634</td>\n",
       "      <td>-0.279076</td>\n",
       "      <td>-0.305732</td>\n",
       "      <td>-0.267311</td>\n",
       "      <td>-0.264632</td>\n",
       "      <td>-0.517737</td>\n",
       "      <td>0.0</td>\n",
       "      <td>0.0</td>\n",
       "      <td>0.0</td>\n",
       "      <td>0.0</td>\n",
       "      <td>0.0</td>\n",
       "      <td>0.0</td>\n",
       "      <td>0.0</td>\n",
       "      <td>1.0</td>\n",
       "      <td>0.0</td>\n",
       "      <td>0.0</td>\n",
       "      <td>1.0</td>\n",
       "      <td>0.0</td>\n",
       "      <td>0.0</td>\n",
       "      <td>1.0</td>\n",
       "      <td>0.0</td>\n",
       "      <td>0.0</td>\n",
       "      <td>0.0</td>\n",
       "      <td>0.0</td>\n",
       "      <td>0.0</td>\n",
       "      <td>0.0</td>\n",
       "      <td>0.0</td>\n",
       "      <td>1.0</td>\n",
       "      <td>0.0</td>\n",
       "      <td>0.0</td>\n",
       "      <td>0.0</td>\n",
       "      <td>0.0</td>\n",
       "      <td>0.0</td>\n",
       "      <td>0.0</td>\n",
       "      <td>1.0</td>\n",
       "      <td>0</td>\n",
       "      <td>0</td>\n",
       "      <td>0</td>\n",
       "      <td>0</td>\n",
       "      <td>1</td>\n",
       "      <td>0</td>\n",
       "      <td>0</td>\n",
       "      <td>0</td>\n",
       "      <td>1</td>\n",
       "    </tr>\n",
       "    <tr>\n",
       "      <th>5076_01</th>\n",
       "      <td>-1.090396</td>\n",
       "      <td>0.174835</td>\n",
       "      <td>-0.33634</td>\n",
       "      <td>-0.279076</td>\n",
       "      <td>-0.195161</td>\n",
       "      <td>-0.266427</td>\n",
       "      <td>4.423937</td>\n",
       "      <td>1.372395</td>\n",
       "      <td>0.0</td>\n",
       "      <td>0.0</td>\n",
       "      <td>3.0</td>\n",
       "      <td>0.0</td>\n",
       "      <td>5.0</td>\n",
       "      <td>4.0</td>\n",
       "      <td>1.0</td>\n",
       "      <td>0.0</td>\n",
       "      <td>0.0</td>\n",
       "      <td>1.0</td>\n",
       "      <td>0.0</td>\n",
       "      <td>0.0</td>\n",
       "      <td>0.0</td>\n",
       "      <td>0.0</td>\n",
       "      <td>0.0</td>\n",
       "      <td>0.0</td>\n",
       "      <td>1.0</td>\n",
       "      <td>0.0</td>\n",
       "      <td>0.0</td>\n",
       "      <td>0.0</td>\n",
       "      <td>0.0</td>\n",
       "      <td>0.0</td>\n",
       "      <td>0.0</td>\n",
       "      <td>0.0</td>\n",
       "      <td>1.0</td>\n",
       "      <td>0.0</td>\n",
       "      <td>0.0</td>\n",
       "      <td>1.0</td>\n",
       "      <td>0.0</td>\n",
       "      <td>0</td>\n",
       "      <td>0</td>\n",
       "      <td>0</td>\n",
       "      <td>0</td>\n",
       "      <td>0</td>\n",
       "      <td>0</td>\n",
       "      <td>0</td>\n",
       "      <td>0</td>\n",
       "      <td>1</td>\n",
       "    </tr>\n",
       "  </tbody>\n",
       "</table>\n",
       "</div>"
      ],
      "text/plain": [
       "                  Age     group  ...  VIP_missing  group_size\n",
       "PassengerId                      ...                         \n",
       "3868_04     -1.996149 -0.277637  ...            0           7\n",
       "1336_01     -0.811703 -1.226031  ...            0           1\n",
       "9193_01      0.442416  1.716911  ...            0           1\n",
       "5422_01     -0.184643  0.304434  ...            0           1\n",
       "5076_01     -1.090396  0.174835  ...            0           1\n",
       "\n",
       "[5 rows x 46 columns]"
      ]
     },
     "execution_count": 14,
     "metadata": {},
     "output_type": "execute_result"
    }
   ],
   "source": [
    "x_train_processed.head()"
   ]
  },
  {
   "cell_type": "markdown",
   "id": "c013aed8",
   "metadata": {},
   "source": [
    "# Initial model evaluation: "
   ]
  },
  {
   "cell_type": "markdown",
   "id": "5b1481bf",
   "metadata": {},
   "source": [
    "Modeling techniques can now be used to try and predict whether a person will be transported to a new dimension or not. In general, all features will be used for each model to establish a baseline.\n",
    "\n",
    "In terms of modeling, 4 outcomes are possible: \n",
    "- True positive: Model predicts transported when the person was transported.\n",
    "- False positive: Model predicts transported when the person was not transported. \n",
    "- True negative: Model predicts not transported when the person was not transported. \n",
    "- False negative: Model predicts not transported when the person was not transported.\n",
    "\n",
    "For this problem, the priority is to correctly classify as many cases as possible, and the most important metric here will be accuracy. In total, metrics observed during model evaluation include: \n",
    "\n",
    "- accuracy: this represents the amount of accurate predictions of the model over the number of innacurate predictions. \n",
    "- recall: defined as the number of true positives over the sum of true positives and false negatives. \n",
    "- precision: defined as the numvber of true positives over the sum of true positives and false positives. \n",
    "- weighted F1 score: This value corrects for class imbalance by taking precision and recall's weighted harmonic mean. This ranges from 0-1, where higher values show a better model performance.  \n",
    "- PR-AUC: this is the area under the precision recall curve and is a measure of the goodnes of balance for precision and recall for the model. Again, values closer to 1 indicate better model performance.  \n",
    "- MCC: Matthews Correlation Coefficient, which is a helpful metric for imbalanced datasets. This takes all instances of the confusion matrix into account to tell how well the model is able to predict the y values, and ranges from -1 (model does not agree with data labels) to 1 (the model correctly labelled all data). \n"
   ]
  },
  {
   "cell_type": "markdown",
   "id": "51c8f6da",
   "metadata": {},
   "source": [
    "Initial model selection: \n",
    "\n",
    "Basic models, random forest models, and gradient boosted models are selected initially. As a note, since the original dataset has a lot of multicollinearity, logistic regression will not be used initially as one of its base assumptions are violated. \n",
    "\n",
    "Initial models to be used: \n",
    "- Dummy model used as a base model. \n",
    "- decision tree\n",
    "- support vector machine (SVM)\n",
    "- k-nearest neighbors (KNN)\n",
    "- naive bayes model \n",
    "\n",
    "Ensemble and gradient boosted models: \n",
    "- Random Forest and Balanced Random Forest\n",
    "- Gradient boosting and HistGradient boosting. \n",
    "- xgboost\n",
    "- adaboost using a decision tree classifier\n",
    "- lightgbm\n",
    "\n",
    "These can go into a dictionary: "
   ]
  },
  {
   "cell_type": "code",
   "execution_count": 15,
   "id": "e112d70d",
   "metadata": {},
   "outputs": [],
   "source": [
    "models_initial = {\n",
    "    'Dummy': DummyClassifier(strategy='most_frequent'),\n",
    "    'Decision Tree': DecisionTreeClassifier(random_state=42),\n",
    "    'SVM': SVC(probability=True),\n",
    "    'KNN': KNeighborsClassifier(n_neighbors=5),\n",
    "    'Naive Bayes': GaussianNB(),\n",
    "    'Random Forest': RandomForestClassifier(random_state=42),\n",
    "    'Gradient Boosting': GradientBoostingClassifier(random_state=42),\n",
    "    'hist_gradient_boosting': HistGradientBoostingClassifier(random_state=42),\n",
    "    'XGBoost': XGBClassifier(random_state=42),\n",
    "    'Adaboost': AdaBoostClassifier(estimator=DecisionTreeClassifier(random_state=42),\n",
    "    random_state=42),\n",
    "    'lightgbm': LGBMClassifier(random_state=42, objective='binary', metric='accuracy'),\n",
    "}"
   ]
  },
  {
   "cell_type": "markdown",
   "id": "2618bf11",
   "metadata": {},
   "source": [
    "Preparing cross validation: "
   ]
  },
  {
   "cell_type": "code",
   "execution_count": 16,
   "id": "51100e3c",
   "metadata": {},
   "outputs": [],
   "source": [
    "cv = StratifiedKFold(n_splits=5, shuffle=True, random_state=42)\n"
   ]
  },
  {
   "cell_type": "markdown",
   "id": "ebc315fb",
   "metadata": {},
   "source": [
    "Evaluating the initial models: "
   ]
  },
  {
   "cell_type": "code",
   "execution_count": 17,
   "id": "9108fb84",
   "metadata": {},
   "outputs": [
    {
     "name": "stdout",
     "output_type": "stream",
     "text": [
      "[LightGBM] [Warning] Found whitespace in feature_names, replace with underlines\n",
      "[LightGBM] [Info] Number of positive: 2801, number of negative: 2762\n",
      "[LightGBM] [Info] Auto-choosing row-wise multi-threading, the overhead of testing was 0.001176 seconds.\n",
      "You can set `force_row_wise=true` to remove the overhead.\n",
      "And if memory is not enough, you can set `force_col_wise=true`.\n",
      "[LightGBM] [Info] Total Bins 1968\n",
      "[LightGBM] [Info] Number of data points in the train set: 5563, number of used features: 45\n",
      "[LightGBM] [Info] [binary:BoostFromScore]: pavg=0.503505 -> initscore=0.014021\n",
      "[LightGBM] [Info] Start training from score 0.014021\n",
      "[LightGBM] [Warning] Found whitespace in feature_names, replace with underlines\n",
      "[LightGBM] [Info] Number of positive: 2801, number of negative: 2762\n",
      "[LightGBM] [Info] Auto-choosing row-wise multi-threading, the overhead of testing was 0.000607 seconds.\n",
      "You can set `force_row_wise=true` to remove the overhead.\n",
      "And if memory is not enough, you can set `force_col_wise=true`.\n",
      "[LightGBM] [Info] Total Bins 1968\n",
      "[LightGBM] [Info] Number of data points in the train set: 5563, number of used features: 45\n",
      "[LightGBM] [Info] [binary:BoostFromScore]: pavg=0.503505 -> initscore=0.014021\n",
      "[LightGBM] [Info] Start training from score 0.014021\n",
      "[LightGBM] [Warning] Found whitespace in feature_names, replace with underlines\n",
      "[LightGBM] [Info] Number of positive: 2802, number of negative: 2761\n",
      "[LightGBM] [Info] Auto-choosing row-wise multi-threading, the overhead of testing was 0.000556 seconds.\n",
      "You can set `force_row_wise=true` to remove the overhead.\n",
      "And if memory is not enough, you can set `force_col_wise=true`.\n",
      "[LightGBM] [Info] Total Bins 1966\n",
      "[LightGBM] [Info] Number of data points in the train set: 5563, number of used features: 45\n",
      "[LightGBM] [Info] [binary:BoostFromScore]: pavg=0.503685 -> initscore=0.014741\n",
      "[LightGBM] [Info] Start training from score 0.014741\n",
      "[LightGBM] [Warning] Found whitespace in feature_names, replace with underlines\n",
      "[LightGBM] [Info] Number of positive: 2802, number of negative: 2761\n",
      "[LightGBM] [Info] Auto-choosing row-wise multi-threading, the overhead of testing was 0.000613 seconds.\n",
      "You can set `force_row_wise=true` to remove the overhead.\n",
      "And if memory is not enough, you can set `force_col_wise=true`.\n",
      "[LightGBM] [Info] Total Bins 1969\n",
      "[LightGBM] [Info] Number of data points in the train set: 5563, number of used features: 45\n",
      "[LightGBM] [Info] [binary:BoostFromScore]: pavg=0.503685 -> initscore=0.014741\n",
      "[LightGBM] [Info] Start training from score 0.014741\n",
      "[LightGBM] [Warning] Found whitespace in feature_names, replace with underlines\n",
      "[LightGBM] [Info] Number of positive: 2802, number of negative: 2762\n",
      "[LightGBM] [Info] Auto-choosing row-wise multi-threading, the overhead of testing was 0.000676 seconds.\n",
      "You can set `force_row_wise=true` to remove the overhead.\n",
      "And if memory is not enough, you can set `force_col_wise=true`.\n",
      "[LightGBM] [Info] Total Bins 1969\n",
      "[LightGBM] [Info] Number of data points in the train set: 5564, number of used features: 45\n",
      "[LightGBM] [Info] [binary:BoostFromScore]: pavg=0.503595 -> initscore=0.014378\n",
      "[LightGBM] [Info] Start training from score 0.014378\n"
     ]
    }
   ],
   "source": [
    "r_initial = get_results(models_initial, x_train_processed, tr_y, cv)"
   ]
  },
  {
   "cell_type": "code",
   "execution_count": 18,
   "id": "b9b98a20",
   "metadata": {},
   "outputs": [
    {
     "data": {
      "text/html": [
       "<div>\n",
       "<style scoped>\n",
       "    .dataframe tbody tr th:only-of-type {\n",
       "        vertical-align: middle;\n",
       "    }\n",
       "\n",
       "    .dataframe tbody tr th {\n",
       "        vertical-align: top;\n",
       "    }\n",
       "\n",
       "    .dataframe thead th {\n",
       "        text-align: right;\n",
       "    }\n",
       "</style>\n",
       "<table border=\"1\" class=\"dataframe\">\n",
       "  <thead>\n",
       "    <tr style=\"text-align: right;\">\n",
       "      <th></th>\n",
       "      <th>Model</th>\n",
       "      <th>accuracy</th>\n",
       "      <th>average precision</th>\n",
       "      <th>recall</th>\n",
       "      <th>weighted f1</th>\n",
       "      <th>PR AUC</th>\n",
       "      <th>MCC</th>\n",
       "    </tr>\n",
       "  </thead>\n",
       "  <tbody>\n",
       "    <tr>\n",
       "      <th>7</th>\n",
       "      <td>hist_gradient_boosting</td>\n",
       "      <td>0.8082 ± 0.0031</td>\n",
       "      <td>0.7521 ± 0.0038</td>\n",
       "      <td>0.8082 ± 0.0031</td>\n",
       "      <td>0.8082 ± 0.0031</td>\n",
       "      <td>0.7521 ± 0.0038</td>\n",
       "      <td>0.6164 ± 0.0062</td>\n",
       "    </tr>\n",
       "    <tr>\n",
       "      <th>10</th>\n",
       "      <td>lightgbm</td>\n",
       "      <td>0.8054 ± 0.0055</td>\n",
       "      <td>0.7494 ± 0.0059</td>\n",
       "      <td>0.8054 ± 0.0055</td>\n",
       "      <td>0.8054 ± 0.0055</td>\n",
       "      <td>0.7494 ± 0.0059</td>\n",
       "      <td>0.6109 ± 0.0109</td>\n",
       "    </tr>\n",
       "    <tr>\n",
       "      <th>6</th>\n",
       "      <td>Gradient Boosting</td>\n",
       "      <td>0.8024 ± 0.0038</td>\n",
       "      <td>0.7412 ± 0.0049</td>\n",
       "      <td>0.8024 ± 0.0038</td>\n",
       "      <td>0.8023 ± 0.0038</td>\n",
       "      <td>0.7412 ± 0.0049</td>\n",
       "      <td>0.6053 ± 0.0075</td>\n",
       "    </tr>\n",
       "    <tr>\n",
       "      <th>8</th>\n",
       "      <td>XGBoost</td>\n",
       "      <td>0.7990 ± 0.0061</td>\n",
       "      <td>0.7436 ± 0.0075</td>\n",
       "      <td>0.7990 ± 0.0061</td>\n",
       "      <td>0.7989 ± 0.0061</td>\n",
       "      <td>0.7436 ± 0.0075</td>\n",
       "      <td>0.5982 ± 0.0124</td>\n",
       "    </tr>\n",
       "    <tr>\n",
       "      <th>2</th>\n",
       "      <td>SVM</td>\n",
       "      <td>0.7965 ± 0.0067</td>\n",
       "      <td>0.7332 ± 0.0078</td>\n",
       "      <td>0.7965 ± 0.0067</td>\n",
       "      <td>0.7962 ± 0.0068</td>\n",
       "      <td>0.7332 ± 0.0078</td>\n",
       "      <td>0.5942 ± 0.0130</td>\n",
       "    </tr>\n",
       "    <tr>\n",
       "      <th>5</th>\n",
       "      <td>Random Forest</td>\n",
       "      <td>0.7957 ± 0.0066</td>\n",
       "      <td>0.7440 ± 0.0089</td>\n",
       "      <td>0.7957 ± 0.0066</td>\n",
       "      <td>0.7955 ± 0.0065</td>\n",
       "      <td>0.7440 ± 0.0089</td>\n",
       "      <td>0.5928 ± 0.0137</td>\n",
       "    </tr>\n",
       "    <tr>\n",
       "      <th>3</th>\n",
       "      <td>KNN</td>\n",
       "      <td>0.7735 ± 0.0068</td>\n",
       "      <td>0.7156 ± 0.0074</td>\n",
       "      <td>0.7735 ± 0.0068</td>\n",
       "      <td>0.7735 ± 0.0068</td>\n",
       "      <td>0.7156 ± 0.0074</td>\n",
       "      <td>0.5472 ± 0.0136</td>\n",
       "    </tr>\n",
       "    <tr>\n",
       "      <th>4</th>\n",
       "      <td>Naive Bayes</td>\n",
       "      <td>0.7688 ± 0.0207</td>\n",
       "      <td>0.7044 ± 0.0253</td>\n",
       "      <td>0.7688 ± 0.0207</td>\n",
       "      <td>0.7669 ± 0.0242</td>\n",
       "      <td>0.7044 ± 0.0253</td>\n",
       "      <td>0.5437 ± 0.0300</td>\n",
       "    </tr>\n",
       "    <tr>\n",
       "      <th>9</th>\n",
       "      <td>Adaboost</td>\n",
       "      <td>0.7459 ± 0.0077</td>\n",
       "      <td>0.6868 ± 0.0077</td>\n",
       "      <td>0.7459 ± 0.0077</td>\n",
       "      <td>0.7459 ± 0.0077</td>\n",
       "      <td>0.6868 ± 0.0077</td>\n",
       "      <td>0.4919 ± 0.0154</td>\n",
       "    </tr>\n",
       "    <tr>\n",
       "      <th>1</th>\n",
       "      <td>Decision Tree</td>\n",
       "      <td>0.7396 ± 0.0104</td>\n",
       "      <td>0.6803 ± 0.0102</td>\n",
       "      <td>0.7396 ± 0.0104</td>\n",
       "      <td>0.7396 ± 0.0104</td>\n",
       "      <td>0.6803 ± 0.0102</td>\n",
       "      <td>0.4792 ± 0.0209</td>\n",
       "    </tr>\n",
       "    <tr>\n",
       "      <th>0</th>\n",
       "      <td>Dummy</td>\n",
       "      <td>0.5036 ± 0.0003</td>\n",
       "      <td>0.5036 ± 0.0003</td>\n",
       "      <td>0.5036 ± 0.0003</td>\n",
       "      <td>0.3373 ± 0.0004</td>\n",
       "      <td>0.5036 ± 0.0003</td>\n",
       "      <td>0.0000 ± 0.0000</td>\n",
       "    </tr>\n",
       "  </tbody>\n",
       "</table>\n",
       "</div>"
      ],
      "text/plain": [
       "                     Model         accuracy  ...           PR AUC              MCC\n",
       "7   hist_gradient_boosting  0.8082 ± 0.0031  ...  0.7521 ± 0.0038  0.6164 ± 0.0062\n",
       "10                lightgbm  0.8054 ± 0.0055  ...  0.7494 ± 0.0059  0.6109 ± 0.0109\n",
       "6        Gradient Boosting  0.8024 ± 0.0038  ...  0.7412 ± 0.0049  0.6053 ± 0.0075\n",
       "8                  XGBoost  0.7990 ± 0.0061  ...  0.7436 ± 0.0075  0.5982 ± 0.0124\n",
       "2                      SVM  0.7965 ± 0.0067  ...  0.7332 ± 0.0078  0.5942 ± 0.0130\n",
       "5            Random Forest  0.7957 ± 0.0066  ...  0.7440 ± 0.0089  0.5928 ± 0.0137\n",
       "3                      KNN  0.7735 ± 0.0068  ...  0.7156 ± 0.0074  0.5472 ± 0.0136\n",
       "4              Naive Bayes  0.7688 ± 0.0207  ...  0.7044 ± 0.0253  0.5437 ± 0.0300\n",
       "9                 Adaboost  0.7459 ± 0.0077  ...  0.6868 ± 0.0077  0.4919 ± 0.0154\n",
       "1            Decision Tree  0.7396 ± 0.0104  ...  0.6803 ± 0.0102  0.4792 ± 0.0209\n",
       "0                    Dummy  0.5036 ± 0.0003  ...  0.5036 ± 0.0003  0.0000 ± 0.0000\n",
       "\n",
       "[11 rows x 7 columns]"
      ]
     },
     "execution_count": 18,
     "metadata": {},
     "output_type": "execute_result"
    }
   ],
   "source": [
    "r_initial.sort_values(by='accuracy', ascending=False)"
   ]
  },
  {
   "cell_type": "markdown",
   "id": "514b6d2b",
   "metadata": {},
   "source": [
    "Storing this result in a table gives: "
   ]
  },
  {
   "cell_type": "markdown",
   "id": "5f2cc5ff",
   "metadata": {},
   "source": [
    "Initial model results: \n",
    "\n",
    "| Model                  | accuracy        | average precision   | recall          | weighted f1     | PR AUC          | MCC             |\n",
    "|------------------------|-----------------|---------------------|-----------------|-----------------|-----------------|-----------------|\n",
    "| hist_gradient_boosting | 0.8082 ± 0.0031 | 0.7521 ± 0.0038     | 0.8082 ± 0.0031 | 0.8082 ± 0.0031 | 0.7521 ± 0.0038 | 0.6164 ± 0.0062 |\n",
    "| lightgbm               | 0.8044 ± 0.0074 | 0.7479 ± 0.0073     | 0.8044 ± 0.0074 | 0.8044 ± 0.0074 | 0.7479 ± 0.0073 | 0.6089 ± 0.0148 |\n",
    "| Gradient Boosting      | 0.8026 ± 0.0039 | 0.7414 ± 0.0050     | 0.8026 ± 0.0039 | 0.8024 ± 0.0039 | 0.7414 ± 0.0050 | 0.6056 ± 0.0077 |\n",
    "| XGBoost                | 0.7990 ± 0.0061 | 0.7436 ± 0.0075     | 0.7990 ± 0.0061 | 0.7989 ± 0.0061 | 0.7436 ± 0.0075 | 0.5982 ± 0.0124 |\n",
    "| Random Forest          | 0.7961 ± 0.0076 | 0.7445 ± 0.0098     | 0.7961 ± 0.0076 | 0.7959 ± 0.0075 | 0.7445 ± 0.0098 | 0.5937 ± 0.0156 |\n",
    "| Naive Bayes            | 0.7688 ± 0.0207 | 0.7044 ± 0.0253     | 0.7688 ± 0.0207 | 0.7669 ± 0.0242 | 0.7044 ± 0.0253 | 0.5437 ± 0.0300 |\n",
    "| SVM                    | 0.7610 ± 0.0087 | 0.7036 ± 0.0092     | 0.7610 ± 0.0087 | 0.7610 ± 0.0087 | 0.7036 ± 0.0092 | 0.5224 ± 0.0174 |\n",
    "| KNN                    | 0.7537 ± 0.0083 | 0.6975 ± 0.0091     | 0.7537 ± 0.0083 | 0.7535 ± 0.0083 | 0.6975 ± 0.0091 | 0.5082 ± 0.0167 |\n",
    "| Adaboost               | 0.7458 ± 0.0085 | 0.6867 ± 0.0085     | 0.7458 ± 0.0085 | 0.7458 ± 0.0085 | 0.6867 ± 0.0085 | 0.4916 ± 0.0170 |\n",
    "| Decision Tree          | 0.7394 ± 0.0113 | 0.6802 ± 0.0111     | 0.7394 ± 0.0113 | 0.7394 ± 0.0113 | 0.6802 ± 0.0111 | 0.4789 ± 0.0226 |\n",
    "| Dummy                  | 0.5036 ± 0.0003 | 0.5036 ± 0.0003     | 0.5036 ± 0.0003 | 0.3373 ± 0.0004 | 0.5036 ± 0.0003 | 0.0000 ± 0.0000 |"
   ]
  },
  {
   "cell_type": "markdown",
   "id": "d0181781",
   "metadata": {},
   "source": [
    "The top two models are the histogram-based gradient boosting and lightGBM. These two models only will be used from here for further feature engineering and tuning."
   ]
  },
  {
   "cell_type": "markdown",
   "id": "f5ad5e5e",
   "metadata": {},
   "source": [
    "Initial best two models: \n",
    "\n",
    "| Model                  | accuracy        | average precision   | recall          | weighted f1     | PR AUC          | MCC             |\n",
    "|------------------------|-----------------|---------------------|-----------------|-----------------|-----------------|-----------------|\n",
    "| hist_gradient_boosting | 0.8082 ± 0.0031 | 0.7521 ± 0.0038     | 0.8082 ± 0.0031 | 0.8082 ± 0.0031 | 0.7521 ± 0.0038 | 0.6164 ± 0.0062 |\n",
    "| lightgbm               | 0.8044 ± 0.0074 | 0.7479 ± 0.0073     | 0.8044 ± 0.0074 | 0.8044 ± 0.0074 | 0.7479 ± 0.0073 | 0.6089 ± 0.0148 |"
   ]
  },
  {
   "cell_type": "markdown",
   "id": "17386730",
   "metadata": {},
   "source": [
    "# Initial SHAP examination: "
   ]
  },
  {
   "cell_type": "markdown",
   "id": "224373e6",
   "metadata": {},
   "source": [
    "Looking at Shapley summary plot for both models could help to create new features, or remove unimportant features from the dataset. This gives:"
   ]
  },
  {
   "cell_type": "code",
   "execution_count": 19,
   "id": "406dc3ce",
   "metadata": {},
   "outputs": [
    {
     "name": "stdout",
     "output_type": "stream",
     "text": [
      "[LightGBM] [Warning] Found whitespace in feature_names, replace with underlines\n",
      "[LightGBM] [Info] Number of positive: 3502, number of negative: 3452\n",
      "[LightGBM] [Info] Auto-choosing row-wise multi-threading, the overhead of testing was 0.000758 seconds.\n",
      "You can set `force_row_wise=true` to remove the overhead.\n",
      "And if memory is not enough, you can set `force_col_wise=true`.\n",
      "[LightGBM] [Info] Total Bins 1969\n",
      "[LightGBM] [Info] Number of data points in the train set: 6954, number of used features: 45\n",
      "[LightGBM] [Info] [binary:BoostFromScore]: pavg=0.503595 -> initscore=0.014380\n",
      "[LightGBM] [Info] Start training from score 0.014380\n"
     ]
    },
    {
     "name": "stderr",
     "output_type": "stream",
     "text": [
      "/Users/bt/Documents/turing/ml_3/.venv/lib/python3.13/site-packages/shap/explainers/_tree.py:544: UserWarning: LightGBM binary classifier with TreeExplainer shap values output has changed to a list of ndarray\n",
      "  warnings.warn(\n"
     ]
    },
    {
     "name": "stdout",
     "output_type": "stream",
     "text": [
      "SHAP summary plot for LGBMClassifier:\n"
     ]
    },
    {
     "data": {
      "image/png": "[encoded data removed]",
      "text/plain": [
       "<Figure size 800x950 with 2 Axes>"
      ]
     },
     "metadata": {},
     "output_type": "display_data"
    },
    {
     "name": "stdout",
     "output_type": "stream",
     "text": [
      "SHAP summary plot for HistGradientBoostingClassifier:\n"
     ]
    },
    {
     "data": {
      "image/png": "[encoded data removed]",
      "text/plain": [
       "<Figure size 800x950 with 2 Axes>"
      ]
     },
     "metadata": {},
     "output_type": "display_data"
    }
   ],
   "source": [
    "model_lgb = LGBMClassifier().fit(x_train_processed, tr_y)\n",
    "explainer_lgb = shap.TreeExplainer(model_lgb)\n",
    "shap_values_lgb = explainer_lgb.shap_values(x_train_processed)\n",
    "\n",
    "model_hist = HistGradientBoostingClassifier().fit(x_train_processed, tr_y)\n",
    "explainer_hist = shap.TreeExplainer(model_hist)\n",
    "shap_values_hist = explainer_hist.shap_values(x_train_processed)\n",
    "\n",
    "print(\"SHAP summary plot for LGBMClassifier:\")\n",
    "shap.summary_plot(shap_values_lgb, x_train_processed)\n",
    "plt.show()\n",
    "\n",
    "print(\"SHAP summary plot for HistGradientBoostingClassifier:\")\n",
    "shap.summary_plot(shap_values_hist, x_train_processed)\n",
    "plt.show()\n"
   ]
  },
  {
   "cell_type": "markdown",
   "id": "700eaa79",
   "metadata": {},
   "source": [
    "These plots show that the most important features are Spa, CryoSleep_True or _False, VRDeck, and RoomService for light-gbm, with hist-gb's top features also being Spa, CryoSleep_True or False, followed by tot_spend and VRDeck. Notably, Spa and VRDeck push the transported prediction towards 0, or towards a passenger not being transported. This means that higher spendings in the Spa or VRDeck reduce the chance of a passenger being transported. \n",
    "\n",
    "Both plots generally show the same features with the same feature directions, though feature importance to each model varies. \n",
    "\n",
    "It could be interesting to test these models with each top feature list only, thus restricting the number of features in each model. Defining these lists for later use here: "
   ]
  },
  {
   "cell_type": "code",
   "execution_count": 20,
   "id": "7e586ecd",
   "metadata": {},
   "outputs": [],
   "source": [
    "features_shap_lgb = ['Spa', 'CryoSleep_True', 'CryoSleep_False', 'VRDeck', 'tot_spend', 'FoodCourt', 'HomePlanet_Earth', 'RoomService', 'group', 'HomePlanet_Europa', 'cabin_side_S', 'cabin_side_P', 'Age', 'ShoppingMall', 'cabin_deck_C', 'cabin_deck_F', 'Destination_TRAPPIST-1e', 'cabin_deck_G', 'cabin_deck_E', 'HomePlanet_Mars']\n",
    "features_shap_hist = ['Spa', 'CryoSleep_True', 'CryoSleep_False', 'VRDeck', 'tot_spend', 'FoodCourt', 'HomePlanet_Earth', 'RoomService', 'group', 'HomePlanet_Europa', 'cabin_side_S', 'cabin_side_P', 'Age', 'ShoppingMall', 'cabin_deck_C', 'cabin_deck_G', 'Destination_TRAPPIST-1e', 'cabin_deck_B', 'cabin_deck_E', 'cabin_deck_F']"
   ]
  },
  {
   "cell_type": "markdown",
   "id": "68843521",
   "metadata": {},
   "source": [
    "# Feature Engineering: "
   ]
  },
  {
   "cell_type": "markdown",
   "id": "28cc2609",
   "metadata": {},
   "source": [
    "Now, changes can be made to initial data preprocessing methods to try to improve model performance. \n",
    "\n",
    "The initial preprocessing adds: \n",
    "- Indicator columns for features with imputed values, \n",
    "- total_spend feature, \n",
    "- group and group_size features derived from PassengerID, \n",
    "- cabin_deck and cabin_side features derived from cabin, \n",
    "- For numerical variables: \n",
    "    - Imputes with median for missing values,\n",
    "    - Standardization,\n",
    "    - Binning and ordinal encoding of billed variables, \n",
    "- For categorical variables: \n",
    "    - Imputes with ‘Missing’ for missing values, and\n",
    "    - One hot encoding. \n",
    "\n",
    "These steps can be modified, and variables can be more carefully selected to increase the accuracy score for the light-gradient boosted model or for the histogram-gradient boosted model. \n",
    "\n",
    "Results and explanations for modifications are found in the appendix, and only the final result with the final preprocessing steps are shown here."
   ]
  },
  {
   "cell_type": "markdown",
   "id": "c919b05a",
   "metadata": {},
   "source": [
    "## No multicollinearity evaluation:"
   ]
  },
  {
   "cell_type": "markdown",
   "id": "f1cff689",
   "metadata": {},
   "source": [
    "Looking at the initial model evaluation with the set of features that reduces multicollinearity, just to see the logistic regression model's performance: "
   ]
  },
  {
   "cell_type": "markdown",
   "id": "db72ccff",
   "metadata": {},
   "source": [
    "Out of interest, the initial models will be evaluated with the features that give low multicollinearity so as to include a logistic regression model: "
   ]
  },
  {
   "cell_type": "code",
   "execution_count": 21,
   "id": "9592c254",
   "metadata": {},
   "outputs": [],
   "source": [
    "models_initial['Logistic Regression'] = LogisticRegression(random_state=42, max_iter=10000)"
   ]
  },
  {
   "cell_type": "code",
   "execution_count": 22,
   "id": "a742e4b5",
   "metadata": {},
   "outputs": [],
   "source": [
    "v = x_train_processed.drop(['Age', 'cabin_side_S', 'CryoSleep_True', 'CryoSleep_False', 'HomePlanet_Europa', 'ShoppingMall', 'cabin_deck_A', 'cabin_side_0', 'Destination_TRAPPIST-1e', 'tot_spend', 'HomePlanet_Earth'], axis=1)\n"
   ]
  },
  {
   "cell_type": "code",
   "execution_count": 23,
   "id": "af5f4960",
   "metadata": {},
   "outputs": [
    {
     "name": "stdout",
     "output_type": "stream",
     "text": [
      "[LightGBM] [Warning] Found whitespace in feature_names, replace with underlines\n",
      "[LightGBM] [Info] Number of positive: 2801, number of negative: 2762\n",
      "[LightGBM] [Info] Auto-choosing row-wise multi-threading, the overhead of testing was 0.000749 seconds.\n",
      "You can set `force_row_wise=true` to remove the overhead.\n",
      "And if memory is not enough, you can set `force_col_wise=true`.\n",
      "[LightGBM] [Info] Total Bins 1364\n",
      "[LightGBM] [Info] Number of data points in the train set: 5563, number of used features: 34\n",
      "[LightGBM] [Info] [binary:BoostFromScore]: pavg=0.503505 -> initscore=0.014021\n",
      "[LightGBM] [Info] Start training from score 0.014021\n",
      "[LightGBM] [Warning] Found whitespace in feature_names, replace with underlines\n",
      "[LightGBM] [Info] Number of positive: 2801, number of negative: 2762\n",
      "[LightGBM] [Info] Auto-choosing row-wise multi-threading, the overhead of testing was 0.000730 seconds.\n",
      "You can set `force_row_wise=true` to remove the overhead.\n",
      "And if memory is not enough, you can set `force_col_wise=true`.\n",
      "[LightGBM] [Info] Total Bins 1364\n",
      "[LightGBM] [Info] Number of data points in the train set: 5563, number of used features: 34\n",
      "[LightGBM] [Info] [binary:BoostFromScore]: pavg=0.503505 -> initscore=0.014021\n",
      "[LightGBM] [Info] Start training from score 0.014021\n",
      "[LightGBM] [Warning] Found whitespace in feature_names, replace with underlines\n",
      "[LightGBM] [Info] Number of positive: 2802, number of negative: 2761\n",
      "[LightGBM] [Info] Auto-choosing row-wise multi-threading, the overhead of testing was 0.000642 seconds.\n",
      "You can set `force_row_wise=true` to remove the overhead.\n",
      "And if memory is not enough, you can set `force_col_wise=true`.\n",
      "[LightGBM] [Info] Total Bins 1364\n",
      "[LightGBM] [Info] Number of data points in the train set: 5563, number of used features: 34\n",
      "[LightGBM] [Info] [binary:BoostFromScore]: pavg=0.503685 -> initscore=0.014741\n",
      "[LightGBM] [Info] Start training from score 0.014741\n",
      "[LightGBM] [Warning] Found whitespace in feature_names, replace with underlines\n",
      "[LightGBM] [Info] Number of positive: 2802, number of negative: 2761\n",
      "[LightGBM] [Info] Auto-choosing row-wise multi-threading, the overhead of testing was 0.000610 seconds.\n",
      "You can set `force_row_wise=true` to remove the overhead.\n",
      "And if memory is not enough, you can set `force_col_wise=true`.\n",
      "[LightGBM] [Info] Total Bins 1364\n",
      "[LightGBM] [Info] Number of data points in the train set: 5563, number of used features: 34\n",
      "[LightGBM] [Info] [binary:BoostFromScore]: pavg=0.503685 -> initscore=0.014741\n",
      "[LightGBM] [Info] Start training from score 0.014741\n",
      "[LightGBM] [Warning] Found whitespace in feature_names, replace with underlines\n",
      "[LightGBM] [Info] Number of positive: 2802, number of negative: 2762\n",
      "[LightGBM] [Info] Auto-choosing row-wise multi-threading, the overhead of testing was 0.000729 seconds.\n",
      "You can set `force_row_wise=true` to remove the overhead.\n",
      "And if memory is not enough, you can set `force_col_wise=true`.\n",
      "[LightGBM] [Info] Total Bins 1364\n",
      "[LightGBM] [Info] Number of data points in the train set: 5564, number of used features: 34\n",
      "[LightGBM] [Info] [binary:BoostFromScore]: pavg=0.503595 -> initscore=0.014378\n",
      "[LightGBM] [Info] Start training from score 0.014378\n"
     ]
    }
   ],
   "source": [
    "r = get_results(models_initial, v, tr_y, cv)"
   ]
  },
  {
   "cell_type": "code",
   "execution_count": 24,
   "id": "54c55d0a",
   "metadata": {},
   "outputs": [
    {
     "data": {
      "text/html": [
       "<div>\n",
       "<style scoped>\n",
       "    .dataframe tbody tr th:only-of-type {\n",
       "        vertical-align: middle;\n",
       "    }\n",
       "\n",
       "    .dataframe tbody tr th {\n",
       "        vertical-align: top;\n",
       "    }\n",
       "\n",
       "    .dataframe thead th {\n",
       "        text-align: right;\n",
       "    }\n",
       "</style>\n",
       "<table border=\"1\" class=\"dataframe\">\n",
       "  <thead>\n",
       "    <tr style=\"text-align: right;\">\n",
       "      <th></th>\n",
       "      <th>Model</th>\n",
       "      <th>accuracy</th>\n",
       "      <th>average precision</th>\n",
       "      <th>recall</th>\n",
       "      <th>weighted f1</th>\n",
       "      <th>PR AUC</th>\n",
       "      <th>MCC</th>\n",
       "    </tr>\n",
       "  </thead>\n",
       "  <tbody>\n",
       "    <tr>\n",
       "      <th>7</th>\n",
       "      <td>hist_gradient_boosting</td>\n",
       "      <td>0.8024 ± 0.0038</td>\n",
       "      <td>0.7434 ± 0.0038</td>\n",
       "      <td>0.8024 ± 0.0038</td>\n",
       "      <td>0.8024 ± 0.0038</td>\n",
       "      <td>0.7434 ± 0.0038</td>\n",
       "      <td>0.6049 ± 0.0076</td>\n",
       "    </tr>\n",
       "    <tr>\n",
       "      <th>10</th>\n",
       "      <td>lightgbm</td>\n",
       "      <td>0.7997 ± 0.0046</td>\n",
       "      <td>0.7404 ± 0.0036</td>\n",
       "      <td>0.7997 ± 0.0046</td>\n",
       "      <td>0.7996 ± 0.0045</td>\n",
       "      <td>0.7404 ± 0.0036</td>\n",
       "      <td>0.5996 ± 0.0093</td>\n",
       "    </tr>\n",
       "    <tr>\n",
       "      <th>6</th>\n",
       "      <td>Gradient Boosting</td>\n",
       "      <td>0.7928 ± 0.0035</td>\n",
       "      <td>0.7277 ± 0.0041</td>\n",
       "      <td>0.7928 ± 0.0035</td>\n",
       "      <td>0.7923 ± 0.0035</td>\n",
       "      <td>0.7277 ± 0.0041</td>\n",
       "      <td>0.5875 ± 0.0069</td>\n",
       "    </tr>\n",
       "    <tr>\n",
       "      <th>2</th>\n",
       "      <td>SVM</td>\n",
       "      <td>0.7893 ± 0.0055</td>\n",
       "      <td>0.7248 ± 0.0067</td>\n",
       "      <td>0.7893 ± 0.0055</td>\n",
       "      <td>0.7890 ± 0.0056</td>\n",
       "      <td>0.7248 ± 0.0067</td>\n",
       "      <td>0.5802 ± 0.0105</td>\n",
       "    </tr>\n",
       "    <tr>\n",
       "      <th>11</th>\n",
       "      <td>Logistic Regression</td>\n",
       "      <td>0.7889 ± 0.0078</td>\n",
       "      <td>0.7223 ± 0.0086</td>\n",
       "      <td>0.7889 ± 0.0078</td>\n",
       "      <td>0.7882 ± 0.0079</td>\n",
       "      <td>0.7223 ± 0.0086</td>\n",
       "      <td>0.5806 ± 0.0151</td>\n",
       "    </tr>\n",
       "    <tr>\n",
       "      <th>8</th>\n",
       "      <td>XGBoost</td>\n",
       "      <td>0.7889 ± 0.0067</td>\n",
       "      <td>0.7308 ± 0.0078</td>\n",
       "      <td>0.7889 ± 0.0067</td>\n",
       "      <td>0.7889 ± 0.0068</td>\n",
       "      <td>0.7308 ± 0.0078</td>\n",
       "      <td>0.5779 ± 0.0135</td>\n",
       "    </tr>\n",
       "    <tr>\n",
       "      <th>5</th>\n",
       "      <td>Random Forest</td>\n",
       "      <td>0.7852 ± 0.0093</td>\n",
       "      <td>0.7344 ± 0.0099</td>\n",
       "      <td>0.7852 ± 0.0093</td>\n",
       "      <td>0.7848 ± 0.0094</td>\n",
       "      <td>0.7344 ± 0.0099</td>\n",
       "      <td>0.5729 ± 0.0182</td>\n",
       "    </tr>\n",
       "    <tr>\n",
       "      <th>3</th>\n",
       "      <td>KNN</td>\n",
       "      <td>0.7716 ± 0.0117</td>\n",
       "      <td>0.7149 ± 0.0126</td>\n",
       "      <td>0.7716 ± 0.0117</td>\n",
       "      <td>0.7716 ± 0.0117</td>\n",
       "      <td>0.7149 ± 0.0126</td>\n",
       "      <td>0.5438 ± 0.0234</td>\n",
       "    </tr>\n",
       "    <tr>\n",
       "      <th>4</th>\n",
       "      <td>Naive Bayes</td>\n",
       "      <td>0.7509 ± 0.0380</td>\n",
       "      <td>0.6828 ± 0.0370</td>\n",
       "      <td>0.7509 ± 0.0380</td>\n",
       "      <td>0.7451 ± 0.0471</td>\n",
       "      <td>0.6828 ± 0.0370</td>\n",
       "      <td>0.5176 ± 0.0554</td>\n",
       "    </tr>\n",
       "    <tr>\n",
       "      <th>1</th>\n",
       "      <td>Decision Tree</td>\n",
       "      <td>0.7406 ± 0.0088</td>\n",
       "      <td>0.6816 ± 0.0094</td>\n",
       "      <td>0.7406 ± 0.0088</td>\n",
       "      <td>0.7406 ± 0.0089</td>\n",
       "      <td>0.6816 ± 0.0094</td>\n",
       "      <td>0.4812 ± 0.0178</td>\n",
       "    </tr>\n",
       "    <tr>\n",
       "      <th>9</th>\n",
       "      <td>Adaboost</td>\n",
       "      <td>0.7371 ± 0.0081</td>\n",
       "      <td>0.6773 ± 0.0085</td>\n",
       "      <td>0.7371 ± 0.0081</td>\n",
       "      <td>0.7371 ± 0.0081</td>\n",
       "      <td>0.6773 ± 0.0085</td>\n",
       "      <td>0.4743 ± 0.0163</td>\n",
       "    </tr>\n",
       "    <tr>\n",
       "      <th>0</th>\n",
       "      <td>Dummy</td>\n",
       "      <td>0.5036 ± 0.0003</td>\n",
       "      <td>0.5036 ± 0.0003</td>\n",
       "      <td>0.5036 ± 0.0003</td>\n",
       "      <td>0.3373 ± 0.0004</td>\n",
       "      <td>0.5036 ± 0.0003</td>\n",
       "      <td>0.0000 ± 0.0000</td>\n",
       "    </tr>\n",
       "  </tbody>\n",
       "</table>\n",
       "</div>"
      ],
      "text/plain": [
       "                     Model         accuracy  ...           PR AUC              MCC\n",
       "7   hist_gradient_boosting  0.8024 ± 0.0038  ...  0.7434 ± 0.0038  0.6049 ± 0.0076\n",
       "10                lightgbm  0.7997 ± 0.0046  ...  0.7404 ± 0.0036  0.5996 ± 0.0093\n",
       "6        Gradient Boosting  0.7928 ± 0.0035  ...  0.7277 ± 0.0041  0.5875 ± 0.0069\n",
       "2                      SVM  0.7893 ± 0.0055  ...  0.7248 ± 0.0067  0.5802 ± 0.0105\n",
       "11     Logistic Regression  0.7889 ± 0.0078  ...  0.7223 ± 0.0086  0.5806 ± 0.0151\n",
       "8                  XGBoost  0.7889 ± 0.0067  ...  0.7308 ± 0.0078  0.5779 ± 0.0135\n",
       "5            Random Forest  0.7852 ± 0.0093  ...  0.7344 ± 0.0099  0.5729 ± 0.0182\n",
       "3                      KNN  0.7716 ± 0.0117  ...  0.7149 ± 0.0126  0.5438 ± 0.0234\n",
       "4              Naive Bayes  0.7509 ± 0.0380  ...  0.6828 ± 0.0370  0.5176 ± 0.0554\n",
       "1            Decision Tree  0.7406 ± 0.0088  ...  0.6816 ± 0.0094  0.4812 ± 0.0178\n",
       "9                 Adaboost  0.7371 ± 0.0081  ...  0.6773 ± 0.0085  0.4743 ± 0.0163\n",
       "0                    Dummy  0.5036 ± 0.0003  ...  0.5036 ± 0.0003  0.0000 ± 0.0000\n",
       "\n",
       "[12 rows x 7 columns]"
      ]
     },
     "execution_count": 24,
     "metadata": {},
     "output_type": "execute_result"
    }
   ],
   "source": [
    "r.sort_values(by='accuracy', ascending=False)"
   ]
  },
  {
   "cell_type": "markdown",
   "id": "c80a64e4",
   "metadata": {},
   "source": [
    "The top two models here are still the hist-GB model and the light-GB model, which will be the only models used moving forward. These results are worse than the initial ones, the VIF-selected variables will not be selected."
   ]
  },
  {
   "cell_type": "markdown",
   "id": "f546a155",
   "metadata": {},
   "source": [
    "## Changing initial processing techniques: "
   ]
  },
  {
   "cell_type": "markdown",
   "id": "4f16cc94",
   "metadata": {},
   "source": [
    "Now, the dataset can be modified with the purpose of improving accuracy. This can be done by changing initial processing techniques, creating new features, or by feature selection. Various changes are made one by one to the preprocessing steps, always starting from the defined base parameters. The final result of each change is shown in a table only, to be more concise. A list of all changes and tables is shown in the appendix, to keep the notebook a little cleaner.\n"
   ]
  },
  {
   "cell_type": "markdown",
   "id": "974f98a3",
   "metadata": {},
   "source": [
    "Defining the models to be evaluated: "
   ]
  },
  {
   "cell_type": "code",
   "execution_count": 25,
   "id": "1e921326",
   "metadata": {},
   "outputs": [],
   "source": [
    "models = {\n",
    "    'hist_gradient_boosting': HistGradientBoostingClassifier(random_state=42),\n",
    "    'lightgbm': LGBMClassifier(random_state=42, objective='binary', metric='accuracy'),\n",
    "}"
   ]
  },
  {
   "cell_type": "markdown",
   "id": "026e144b",
   "metadata": {},
   "source": [
    "### Code flow for each step: "
   ]
  },
  {
   "cell_type": "markdown",
   "id": "b2dc1122",
   "metadata": {},
   "source": [
    "Showing the code flow for each step (output varies): "
   ]
  },
  {
   "cell_type": "code",
   "execution_count": 26,
   "id": "181264f4",
   "metadata": {},
   "outputs": [
    {
     "name": "stdout",
     "output_type": "stream",
     "text": [
      "[LightGBM] [Warning] Found whitespace in feature_names, replace with underlines\n",
      "[LightGBM] [Info] Number of positive: 2801, number of negative: 2762\n",
      "[LightGBM] [Info] Auto-choosing row-wise multi-threading, the overhead of testing was 0.001280 seconds.\n",
      "You can set `force_row_wise=true` to remove the overhead.\n",
      "And if memory is not enough, you can set `force_col_wise=true`.\n",
      "[LightGBM] [Info] Total Bins 1968\n",
      "[LightGBM] [Info] Number of data points in the train set: 5563, number of used features: 45\n",
      "[LightGBM] [Info] [binary:BoostFromScore]: pavg=0.503505 -> initscore=0.014021\n",
      "[LightGBM] [Info] Start training from score 0.014021\n",
      "[LightGBM] [Warning] Found whitespace in feature_names, replace with underlines\n",
      "[LightGBM] [Info] Number of positive: 2801, number of negative: 2762\n",
      "[LightGBM] [Info] Auto-choosing row-wise multi-threading, the overhead of testing was 0.000576 seconds.\n",
      "You can set `force_row_wise=true` to remove the overhead.\n",
      "And if memory is not enough, you can set `force_col_wise=true`.\n",
      "[LightGBM] [Info] Total Bins 1968\n",
      "[LightGBM] [Info] Number of data points in the train set: 5563, number of used features: 45\n",
      "[LightGBM] [Info] [binary:BoostFromScore]: pavg=0.503505 -> initscore=0.014021\n",
      "[LightGBM] [Info] Start training from score 0.014021\n",
      "[LightGBM] [Warning] Found whitespace in feature_names, replace with underlines\n",
      "[LightGBM] [Info] Number of positive: 2802, number of negative: 2761\n",
      "[LightGBM] [Info] Auto-choosing row-wise multi-threading, the overhead of testing was 0.000640 seconds.\n",
      "You can set `force_row_wise=true` to remove the overhead.\n",
      "And if memory is not enough, you can set `force_col_wise=true`.\n",
      "[LightGBM] [Info] Total Bins 1966\n",
      "[LightGBM] [Info] Number of data points in the train set: 5563, number of used features: 45\n",
      "[LightGBM] [Info] [binary:BoostFromScore]: pavg=0.503685 -> initscore=0.014741\n",
      "[LightGBM] [Info] Start training from score 0.014741\n",
      "[LightGBM] [Warning] Found whitespace in feature_names, replace with underlines\n",
      "[LightGBM] [Info] Number of positive: 2802, number of negative: 2761\n",
      "[LightGBM] [Info] Auto-choosing row-wise multi-threading, the overhead of testing was 0.000560 seconds.\n",
      "You can set `force_row_wise=true` to remove the overhead.\n",
      "And if memory is not enough, you can set `force_col_wise=true`.\n",
      "[LightGBM] [Info] Total Bins 1969\n",
      "[LightGBM] [Info] Number of data points in the train set: 5563, number of used features: 45\n",
      "[LightGBM] [Info] [binary:BoostFromScore]: pavg=0.503685 -> initscore=0.014741\n",
      "[LightGBM] [Info] Start training from score 0.014741\n",
      "[LightGBM] [Warning] Found whitespace in feature_names, replace with underlines\n",
      "[LightGBM] [Info] Number of positive: 2802, number of negative: 2762\n",
      "[LightGBM] [Info] Auto-choosing row-wise multi-threading, the overhead of testing was 0.000565 seconds.\n",
      "You can set `force_row_wise=true` to remove the overhead.\n",
      "And if memory is not enough, you can set `force_col_wise=true`.\n",
      "[LightGBM] [Info] Total Bins 1969\n",
      "[LightGBM] [Info] Number of data points in the train set: 5564, number of used features: 45\n",
      "[LightGBM] [Info] [binary:BoostFromScore]: pavg=0.503595 -> initscore=0.014378\n",
      "[LightGBM] [Info] Start training from score 0.014378\n",
      "| Model                  | accuracy        | average precision   | recall          | weighted f1     | PR AUC          | MCC             |\n",
      "|------------------------|-----------------|---------------------|-----------------|-----------------|-----------------|-----------------|\n",
      "| hist_gradient_boosting | 0.8082 ± 0.0031 | 0.7521 ± 0.0038     | 0.8082 ± 0.0031 | 0.8082 ± 0.0031 | 0.7521 ± 0.0038 | 0.6164 ± 0.0062 |\n",
      "| lightgbm               | 0.8054 ± 0.0055 | 0.7494 ± 0.0059     | 0.8054 ± 0.0055 | 0.8054 ± 0.0055 | 0.7494 ± 0.0059 | 0.6109 ± 0.0109 |\n"
     ]
    }
   ],
   "source": [
    "r = get_results(models, x_train_processed, tr_y, cv)\n",
    "r.sort_values(by='accuracy', ascending=False)\n",
    "print(tabulate(r, headers='keys', tablefmt='github', showindex=False))"
   ]
  },
  {
   "cell_type": "markdown",
   "id": "feb0b2e4",
   "metadata": {},
   "source": [
    "## Combining all feature engineering improvements:"
   ]
  },
  {
   "cell_type": "markdown",
   "id": "f1e001cf",
   "metadata": {},
   "source": [
    "In summary, all feature engineering steps that increased accuracy are: \n",
    "- Changing imputation method to the most common category for a feature instead of ‘missing’\n",
    "- Having no transformations (standardization or normalization) for numerical features\n",
    "- Adding log-transformed numerical features\n",
    "- Removing the tot_spend feature\n",
    "- Adding group*group_size feature or adding group/group_size feature\n",
    "- Adding spa*vrdeck feature\n",
    "- Adding (spa*vrdeck)/group_number feature\n",
    "- Adding (spa*vrdeck)/(roomservice+1)"
   ]
  },
  {
   "cell_type": "markdown",
   "id": "9d2a8066",
   "metadata": {},
   "source": [
    "If all these improvements are combined at once, the resulting accuracy is: "
   ]
  },
  {
   "cell_type": "markdown",
   "id": "af04815b",
   "metadata": {},
   "source": [
    "| Model                  | accuracy        | average precision   | recall          | weighted f1     | PR AUC          | MCC             |\n",
    "|------------------------|-----------------|---------------------|-----------------|-----------------|-----------------|-----------------|\n",
    "| hist_gradient_boosting | 0.8090 ± 0.0031 | 0.7529 ± 0.0032     | 0.8090 ± 0.0031 | 0.8090 ± 0.0031 | 0.7529 ± 0.0032 | 0.6181 ± 0.0061 |\n",
    "| lightgbm               | 0.8072 ± 0.0064 | 0.7513 ± 0.0071     | 0.8072 ± 0.0064 | 0.8072 ± 0.0064 | 0.7513 ± 0.0071 | 0.6144 ± 0.0127 |"
   ]
  },
  {
   "cell_type": "markdown",
   "id": "ca6ad024",
   "metadata": {},
   "source": [
    "This is an improvement from the initial accuracy values of 0.8082 for hist-gbm and 0.8044 for light-gbm. If these changes are added one at a time, and a change decreasing the new highest accuracy is removed, this results in: "
   ]
  },
  {
   "cell_type": "markdown",
   "id": "64590fcb",
   "metadata": {},
   "source": [
    "| Model                  | accuracy        | average precision   | recall          | weighted f1     | PR AUC          | MCC             |\n",
    "|------------------------|-----------------|---------------------|-----------------|-----------------|-----------------|-----------------|\n",
    "| hist_gradient_boosting | 0.8116 ± 0.0043 | 0.7565 ± 0.0052     | 0.8116 ± 0.0043 | 0.8116 ± 0.0043 | 0.7565 ± 0.0052 | 0.6233 ± 0.0086 |\n",
    "| lightgbm               | 0.8069 ± 0.0054 | 0.7515 ± 0.0058     | 0.8069 ± 0.0054 | 0.8069 ± 0.0054 | 0.7515 ± 0.0058 | 0.6139 ± 0.0107 |"
   ]
  },
  {
   "cell_type": "markdown",
   "id": "52980256",
   "metadata": {},
   "source": [
    "Intermediate results are not shown here, to decrease redundancy slightly. In summary, preprocessing and feature engineering steps that increase overall accuracy are: \n",
    "- Having indicator columns for variables with imputed missing values,\n",
    "- Imputing numerical variables with the median value,\n",
    "- Log-transforming billed variables,\n",
    "- Having no further transformations for the numerical variables, \n",
    "- Binning and ordinary encoding billed variables, \n",
    "- One-hot encoding categorical variables, \n",
    "- Adding a total_spending feature, which is the sum of all billed variables,\n",
    "- Adding a feature which shows group_number over group_size, and another feature for group_numer multiplied with group_size. \n",
    "\n",
    "This is shown in the final variable preprocessing section: \n"
   ]
  },
  {
   "cell_type": "markdown",
   "id": "193fcc1d",
   "metadata": {},
   "source": [
    "# Final Variable Preprocessing"
   ]
  },
  {
   "cell_type": "markdown",
   "id": "c589139d",
   "metadata": {},
   "source": [
    "Defining initial variables: "
   ]
  },
  {
   "cell_type": "code",
   "execution_count": 27,
   "id": "9bfc2386",
   "metadata": {},
   "outputs": [],
   "source": [
    "tr_x = tr.drop(columns=['Transported'])\n",
    "tr_y = tr['Transported'].astype(int)\n",
    "val_x = val.drop(columns=['Transported'])\n",
    "val_y = val['Transported'].astype(int)\n",
    "\n",
    "tr_x = add_indicators(tr_x)\n",
    "val_x = add_indicators(val_x)\n",
    "real_x_train = add_indicators(test)\n"
   ]
  },
  {
   "cell_type": "markdown",
   "id": "d2f477a2",
   "metadata": {},
   "source": [
    "Now, a pipeline to impute missing values in numerical columns by their median is implemented: "
   ]
  },
  {
   "cell_type": "code",
   "execution_count": 28,
   "id": "680d1996",
   "metadata": {},
   "outputs": [],
   "source": [
    "imp_num_pipeline = Pipeline(steps=[\n",
    "    ('imputer', SimpleImputer(strategy='median')),\n",
    "])\n",
    "preprocessor = ColumnTransformer([\n",
    "    ('imp', imp_num_pipeline, imp_med_cols)\n",
    "], remainder='passthrough')\n",
    "\n",
    "preprocessor.set_output(transform='pandas')\n",
    "preprocessor.fit(tr_x)\n",
    "\n",
    "tr_x = preprocessor.transform(tr_x)\n",
    "val_x = preprocessor.transform(val_x)\n",
    "real_x_train = preprocessor.transform(real_x_train)\n",
    "\n",
    "tr_x.columns = tr_x.columns.str.replace(r'^[^_]+__', '', regex=True)\n",
    "val_x.columns = val_x.columns.str.replace(r'^[^_]+__', '', regex=True)\n",
    "real_x_train.columns = real_x_train.columns.str.replace(r'^[^_]+__', '', regex=True)"
   ]
  },
  {
   "cell_type": "markdown",
   "id": "78f4b055",
   "metadata": {},
   "source": [
    "Now, the rest of the preprocessing transformations are applied to the data as seen in the exploratory data analysis section in the first notebook (adding the total amount spent per passenger, binning the skewed numerical variables, imputing missing values for categorical features, splitting the cabin variable into cabin_deck and cabin_side, splitting passenger ID into group number and size)."
   ]
  },
  {
   "cell_type": "code",
   "execution_count": 29,
   "id": "f49de94b",
   "metadata": {},
   "outputs": [],
   "source": [
    "tr_x = preprocessing_final(tr_x)\n",
    "val_x = preprocessing_final(val_x)\n",
    "real_x_train = preprocessing_final(real_x_train)"
   ]
  },
  {
   "cell_type": "markdown",
   "id": "6995e1e8",
   "metadata": {},
   "source": [
    "Now, another pipeline is applied to the data to encode the categorical variables: "
   ]
  },
  {
   "cell_type": "code",
   "execution_count": 30,
   "id": "0566d656",
   "metadata": {},
   "outputs": [],
   "source": [
    "ordinal_transformer = Pipeline(steps=[\n",
    "    ('ordinal', OrdinalEncoder())\n",
    "])\n",
    "onehot_transformer = Pipeline(steps=[\n",
    "    ('onehot', OneHotEncoder(sparse_output = False, handle_unknown='ignore'))\n",
    "])\n",
    "\n",
    "preprocessor = ColumnTransformer(\n",
    "    transformers = [\n",
    "        ('ord', ordinal_transformer, ordinal_cols),\n",
    "        ('onehot', onehot_transformer, onehot_cols)\n",
    "    ], \n",
    "    remainder='passthrough'\n",
    ")\n",
    "\n",
    "preprocessor.set_output(transform='pandas')\n",
    "preprocessor.fit(tr_x)\n",
    "x_train_processed = preprocessor.transform(tr_x)\n",
    "x_test_processed = preprocessor.transform(val_x)\n",
    "real_x_train = preprocessor.transform(real_x_train)\n",
    "\n",
    "x_train_processed.columns = x_train_processed.columns.str.replace(r'^[^_]+__', '', regex=True)\n",
    "x_test_processed.columns = x_test_processed.columns.str.replace(r'^[^_]+__', '', regex=True)\n",
    "real_x_train.columns = real_x_train.columns.str.replace(r'^[^_]+__', '', regex=True)\n"
   ]
  },
  {
   "cell_type": "markdown",
   "id": "604faa28",
   "metadata": {},
   "source": [
    "Next, the designated columns to drop are dropped, and the index is set to be the passenger ID: "
   ]
  },
  {
   "cell_type": "code",
   "execution_count": 31,
   "id": "27ee6142",
   "metadata": {},
   "outputs": [],
   "source": [
    "x_train_processed = x_train_processed.drop(cols_to_drop, axis=1)\n",
    "x_test_processed = x_test_processed.drop(cols_to_drop, axis=1)\n",
    "real_x_train = real_x_train.drop(cols_to_drop, axis=1)\n",
    "x_train_processed.set_index('PassengerId', inplace=True)\n",
    "x_test_processed.set_index('PassengerId', inplace=True)\n",
    "real_x_train.set_index('PassengerId', inplace=True)"
   ]
  },
  {
   "cell_type": "markdown",
   "id": "cdd4850d",
   "metadata": {},
   "source": [
    "Looking at the processed dataset: "
   ]
  },
  {
   "cell_type": "code",
   "execution_count": 32,
   "id": "03071b0c",
   "metadata": {},
   "outputs": [
    {
     "data": {
      "text/html": [
       "<div>\n",
       "<style scoped>\n",
       "    .dataframe tbody tr th:only-of-type {\n",
       "        vertical-align: middle;\n",
       "    }\n",
       "\n",
       "    .dataframe tbody tr th {\n",
       "        vertical-align: top;\n",
       "    }\n",
       "\n",
       "    .dataframe thead th {\n",
       "        text-align: right;\n",
       "    }\n",
       "</style>\n",
       "<table border=\"1\" class=\"dataframe\">\n",
       "  <thead>\n",
       "    <tr style=\"text-align: right;\">\n",
       "      <th></th>\n",
       "      <th>RoomService_binned</th>\n",
       "      <th>FoodCourt_binned</th>\n",
       "      <th>ShoppingMall_binned</th>\n",
       "      <th>Spa_binned</th>\n",
       "      <th>VRDeck_binned</th>\n",
       "      <th>tot_spend_binned</th>\n",
       "      <th>CryoSleep_False</th>\n",
       "      <th>CryoSleep_True</th>\n",
       "      <th>CryoSleep_nan</th>\n",
       "      <th>HomePlanet_Earth</th>\n",
       "      <th>HomePlanet_Europa</th>\n",
       "      <th>HomePlanet_Mars</th>\n",
       "      <th>HomePlanet_Missing</th>\n",
       "      <th>Destination_55 Cancri e</th>\n",
       "      <th>Destination_Missing</th>\n",
       "      <th>Destination_PSO J318.5-22</th>\n",
       "      <th>Destination_TRAPPIST-1e</th>\n",
       "      <th>cabin_deck_0</th>\n",
       "      <th>cabin_deck_A</th>\n",
       "      <th>cabin_deck_B</th>\n",
       "      <th>cabin_deck_C</th>\n",
       "      <th>cabin_deck_D</th>\n",
       "      <th>cabin_deck_E</th>\n",
       "      <th>cabin_deck_F</th>\n",
       "      <th>cabin_deck_G</th>\n",
       "      <th>cabin_deck_T</th>\n",
       "      <th>cabin_side_0</th>\n",
       "      <th>cabin_side_P</th>\n",
       "      <th>cabin_side_S</th>\n",
       "      <th>Age</th>\n",
       "      <th>RoomService</th>\n",
       "      <th>FoodCourt</th>\n",
       "      <th>ShoppingMall</th>\n",
       "      <th>Spa</th>\n",
       "      <th>VRDeck</th>\n",
       "      <th>VIP</th>\n",
       "      <th>RoomService_missing</th>\n",
       "      <th>FoodCourt_missing</th>\n",
       "      <th>ShoppingMall_missing</th>\n",
       "      <th>Spa_missing</th>\n",
       "      <th>VRDeck_missing</th>\n",
       "      <th>Age_missing</th>\n",
       "      <th>VIP_missing</th>\n",
       "      <th>tot_spend</th>\n",
       "      <th>group</th>\n",
       "      <th>group_size</th>\n",
       "      <th>group_div_group_size</th>\n",
       "      <th>group_mul_group_size</th>\n",
       "      <th>RoomService_log</th>\n",
       "      <th>FoodCourt_log</th>\n",
       "      <th>ShoppingMall_log</th>\n",
       "      <th>Spa_log</th>\n",
       "      <th>VRDeck_log</th>\n",
       "      <th>tot_spend_log</th>\n",
       "    </tr>\n",
       "    <tr>\n",
       "      <th>PassengerId</th>\n",
       "      <th></th>\n",
       "      <th></th>\n",
       "      <th></th>\n",
       "      <th></th>\n",
       "      <th></th>\n",
       "      <th></th>\n",
       "      <th></th>\n",
       "      <th></th>\n",
       "      <th></th>\n",
       "      <th></th>\n",
       "      <th></th>\n",
       "      <th></th>\n",
       "      <th></th>\n",
       "      <th></th>\n",
       "      <th></th>\n",
       "      <th></th>\n",
       "      <th></th>\n",
       "      <th></th>\n",
       "      <th></th>\n",
       "      <th></th>\n",
       "      <th></th>\n",
       "      <th></th>\n",
       "      <th></th>\n",
       "      <th></th>\n",
       "      <th></th>\n",
       "      <th></th>\n",
       "      <th></th>\n",
       "      <th></th>\n",
       "      <th></th>\n",
       "      <th></th>\n",
       "      <th></th>\n",
       "      <th></th>\n",
       "      <th></th>\n",
       "      <th></th>\n",
       "      <th></th>\n",
       "      <th></th>\n",
       "      <th></th>\n",
       "      <th></th>\n",
       "      <th></th>\n",
       "      <th></th>\n",
       "      <th></th>\n",
       "      <th></th>\n",
       "      <th></th>\n",
       "      <th></th>\n",
       "      <th></th>\n",
       "      <th></th>\n",
       "      <th></th>\n",
       "      <th></th>\n",
       "      <th></th>\n",
       "      <th></th>\n",
       "      <th></th>\n",
       "      <th></th>\n",
       "      <th></th>\n",
       "      <th></th>\n",
       "    </tr>\n",
       "  </thead>\n",
       "  <tbody>\n",
       "    <tr>\n",
       "      <th>3868_04</th>\n",
       "      <td>0.0</td>\n",
       "      <td>0.0</td>\n",
       "      <td>0.0</td>\n",
       "      <td>0.0</td>\n",
       "      <td>0.0</td>\n",
       "      <td>0.0</td>\n",
       "      <td>1.0</td>\n",
       "      <td>0.0</td>\n",
       "      <td>0.0</td>\n",
       "      <td>1.0</td>\n",
       "      <td>0.0</td>\n",
       "      <td>0.0</td>\n",
       "      <td>0.0</td>\n",
       "      <td>0.0</td>\n",
       "      <td>0.0</td>\n",
       "      <td>0.0</td>\n",
       "      <td>1.0</td>\n",
       "      <td>0.0</td>\n",
       "      <td>0.0</td>\n",
       "      <td>0.0</td>\n",
       "      <td>0.0</td>\n",
       "      <td>0.0</td>\n",
       "      <td>0.0</td>\n",
       "      <td>0.0</td>\n",
       "      <td>1.0</td>\n",
       "      <td>0.0</td>\n",
       "      <td>0.0</td>\n",
       "      <td>0.0</td>\n",
       "      <td>1.0</td>\n",
       "      <td>0.0</td>\n",
       "      <td>0.0</td>\n",
       "      <td>0.0</td>\n",
       "      <td>0.0</td>\n",
       "      <td>0.0</td>\n",
       "      <td>0.0</td>\n",
       "      <td>0</td>\n",
       "      <td>0</td>\n",
       "      <td>0</td>\n",
       "      <td>0</td>\n",
       "      <td>0</td>\n",
       "      <td>0</td>\n",
       "      <td>0</td>\n",
       "      <td>0</td>\n",
       "      <td>0.0</td>\n",
       "      <td>3868</td>\n",
       "      <td>7</td>\n",
       "      <td>552.571429</td>\n",
       "      <td>27076</td>\n",
       "      <td>0</td>\n",
       "      <td>0</td>\n",
       "      <td>0</td>\n",
       "      <td>0</td>\n",
       "      <td>0</td>\n",
       "      <td>0</td>\n",
       "    </tr>\n",
       "    <tr>\n",
       "      <th>1336_01</th>\n",
       "      <td>0.0</td>\n",
       "      <td>0.0</td>\n",
       "      <td>0.0</td>\n",
       "      <td>0.0</td>\n",
       "      <td>0.0</td>\n",
       "      <td>0.0</td>\n",
       "      <td>0.0</td>\n",
       "      <td>1.0</td>\n",
       "      <td>0.0</td>\n",
       "      <td>1.0</td>\n",
       "      <td>0.0</td>\n",
       "      <td>0.0</td>\n",
       "      <td>0.0</td>\n",
       "      <td>0.0</td>\n",
       "      <td>0.0</td>\n",
       "      <td>0.0</td>\n",
       "      <td>1.0</td>\n",
       "      <td>0.0</td>\n",
       "      <td>0.0</td>\n",
       "      <td>0.0</td>\n",
       "      <td>0.0</td>\n",
       "      <td>0.0</td>\n",
       "      <td>0.0</td>\n",
       "      <td>0.0</td>\n",
       "      <td>1.0</td>\n",
       "      <td>0.0</td>\n",
       "      <td>0.0</td>\n",
       "      <td>0.0</td>\n",
       "      <td>1.0</td>\n",
       "      <td>17.0</td>\n",
       "      <td>0.0</td>\n",
       "      <td>0.0</td>\n",
       "      <td>0.0</td>\n",
       "      <td>0.0</td>\n",
       "      <td>0.0</td>\n",
       "      <td>0</td>\n",
       "      <td>0</td>\n",
       "      <td>0</td>\n",
       "      <td>0</td>\n",
       "      <td>0</td>\n",
       "      <td>0</td>\n",
       "      <td>0</td>\n",
       "      <td>0</td>\n",
       "      <td>0.0</td>\n",
       "      <td>1336</td>\n",
       "      <td>1</td>\n",
       "      <td>1336.000000</td>\n",
       "      <td>1336</td>\n",
       "      <td>0</td>\n",
       "      <td>0</td>\n",
       "      <td>0</td>\n",
       "      <td>0</td>\n",
       "      <td>0</td>\n",
       "      <td>0</td>\n",
       "    </tr>\n",
       "    <tr>\n",
       "      <th>9193_01</th>\n",
       "      <td>0.0</td>\n",
       "      <td>0.0</td>\n",
       "      <td>0.0</td>\n",
       "      <td>0.0</td>\n",
       "      <td>0.0</td>\n",
       "      <td>0.0</td>\n",
       "      <td>0.0</td>\n",
       "      <td>0.0</td>\n",
       "      <td>1.0</td>\n",
       "      <td>1.0</td>\n",
       "      <td>0.0</td>\n",
       "      <td>0.0</td>\n",
       "      <td>0.0</td>\n",
       "      <td>0.0</td>\n",
       "      <td>0.0</td>\n",
       "      <td>1.0</td>\n",
       "      <td>0.0</td>\n",
       "      <td>0.0</td>\n",
       "      <td>0.0</td>\n",
       "      <td>0.0</td>\n",
       "      <td>0.0</td>\n",
       "      <td>0.0</td>\n",
       "      <td>0.0</td>\n",
       "      <td>0.0</td>\n",
       "      <td>1.0</td>\n",
       "      <td>0.0</td>\n",
       "      <td>0.0</td>\n",
       "      <td>0.0</td>\n",
       "      <td>1.0</td>\n",
       "      <td>35.0</td>\n",
       "      <td>0.0</td>\n",
       "      <td>0.0</td>\n",
       "      <td>0.0</td>\n",
       "      <td>0.0</td>\n",
       "      <td>0.0</td>\n",
       "      <td>0</td>\n",
       "      <td>0</td>\n",
       "      <td>0</td>\n",
       "      <td>0</td>\n",
       "      <td>0</td>\n",
       "      <td>0</td>\n",
       "      <td>0</td>\n",
       "      <td>0</td>\n",
       "      <td>0.0</td>\n",
       "      <td>9193</td>\n",
       "      <td>1</td>\n",
       "      <td>9193.000000</td>\n",
       "      <td>9193</td>\n",
       "      <td>0</td>\n",
       "      <td>0</td>\n",
       "      <td>0</td>\n",
       "      <td>0</td>\n",
       "      <td>0</td>\n",
       "      <td>0</td>\n",
       "    </tr>\n",
       "    <tr>\n",
       "      <th>5422_01</th>\n",
       "      <td>0.0</td>\n",
       "      <td>0.0</td>\n",
       "      <td>0.0</td>\n",
       "      <td>0.0</td>\n",
       "      <td>0.0</td>\n",
       "      <td>0.0</td>\n",
       "      <td>0.0</td>\n",
       "      <td>1.0</td>\n",
       "      <td>0.0</td>\n",
       "      <td>0.0</td>\n",
       "      <td>1.0</td>\n",
       "      <td>0.0</td>\n",
       "      <td>0.0</td>\n",
       "      <td>1.0</td>\n",
       "      <td>0.0</td>\n",
       "      <td>0.0</td>\n",
       "      <td>0.0</td>\n",
       "      <td>0.0</td>\n",
       "      <td>0.0</td>\n",
       "      <td>0.0</td>\n",
       "      <td>0.0</td>\n",
       "      <td>1.0</td>\n",
       "      <td>0.0</td>\n",
       "      <td>0.0</td>\n",
       "      <td>0.0</td>\n",
       "      <td>0.0</td>\n",
       "      <td>0.0</td>\n",
       "      <td>0.0</td>\n",
       "      <td>1.0</td>\n",
       "      <td>26.0</td>\n",
       "      <td>0.0</td>\n",
       "      <td>0.0</td>\n",
       "      <td>0.0</td>\n",
       "      <td>0.0</td>\n",
       "      <td>0.0</td>\n",
       "      <td>0</td>\n",
       "      <td>0</td>\n",
       "      <td>0</td>\n",
       "      <td>0</td>\n",
       "      <td>1</td>\n",
       "      <td>0</td>\n",
       "      <td>0</td>\n",
       "      <td>0</td>\n",
       "      <td>0.0</td>\n",
       "      <td>5422</td>\n",
       "      <td>1</td>\n",
       "      <td>5422.000000</td>\n",
       "      <td>5422</td>\n",
       "      <td>0</td>\n",
       "      <td>0</td>\n",
       "      <td>0</td>\n",
       "      <td>0</td>\n",
       "      <td>0</td>\n",
       "      <td>0</td>\n",
       "    </tr>\n",
       "    <tr>\n",
       "      <th>5076_01</th>\n",
       "      <td>0.0</td>\n",
       "      <td>0.0</td>\n",
       "      <td>3.0</td>\n",
       "      <td>0.0</td>\n",
       "      <td>5.0</td>\n",
       "      <td>4.0</td>\n",
       "      <td>1.0</td>\n",
       "      <td>0.0</td>\n",
       "      <td>0.0</td>\n",
       "      <td>1.0</td>\n",
       "      <td>0.0</td>\n",
       "      <td>0.0</td>\n",
       "      <td>0.0</td>\n",
       "      <td>0.0</td>\n",
       "      <td>0.0</td>\n",
       "      <td>0.0</td>\n",
       "      <td>1.0</td>\n",
       "      <td>0.0</td>\n",
       "      <td>0.0</td>\n",
       "      <td>0.0</td>\n",
       "      <td>0.0</td>\n",
       "      <td>0.0</td>\n",
       "      <td>0.0</td>\n",
       "      <td>0.0</td>\n",
       "      <td>1.0</td>\n",
       "      <td>0.0</td>\n",
       "      <td>0.0</td>\n",
       "      <td>1.0</td>\n",
       "      <td>0.0</td>\n",
       "      <td>13.0</td>\n",
       "      <td>0.0</td>\n",
       "      <td>0.0</td>\n",
       "      <td>60.0</td>\n",
       "      <td>1.0</td>\n",
       "      <td>5147.0</td>\n",
       "      <td>0</td>\n",
       "      <td>0</td>\n",
       "      <td>0</td>\n",
       "      <td>0</td>\n",
       "      <td>0</td>\n",
       "      <td>0</td>\n",
       "      <td>0</td>\n",
       "      <td>0</td>\n",
       "      <td>5208.0</td>\n",
       "      <td>5076</td>\n",
       "      <td>1</td>\n",
       "      <td>5076.000000</td>\n",
       "      <td>5076</td>\n",
       "      <td>0</td>\n",
       "      <td>0</td>\n",
       "      <td>4</td>\n",
       "      <td>0</td>\n",
       "      <td>8</td>\n",
       "      <td>8</td>\n",
       "    </tr>\n",
       "  </tbody>\n",
       "</table>\n",
       "</div>"
      ],
      "text/plain": [
       "             RoomService_binned  FoodCourt_binned  ...  VRDeck_log  tot_spend_log\n",
       "PassengerId                                        ...                           \n",
       "3868_04                     0.0               0.0  ...           0              0\n",
       "1336_01                     0.0               0.0  ...           0              0\n",
       "9193_01                     0.0               0.0  ...           0              0\n",
       "5422_01                     0.0               0.0  ...           0              0\n",
       "5076_01                     0.0               0.0  ...           8              8\n",
       "\n",
       "[5 rows x 54 columns]"
      ]
     },
     "execution_count": 32,
     "metadata": {},
     "output_type": "execute_result"
    }
   ],
   "source": [
    "x_train_processed.head()"
   ]
  },
  {
   "cell_type": "markdown",
   "id": "98e94978",
   "metadata": {},
   "source": [
    "# Final Model Evaluation"
   ]
  },
  {
   "cell_type": "markdown",
   "id": "2e0b0c57",
   "metadata": {},
   "source": [
    "Evaluating the models with the final preprocessed data: "
   ]
  },
  {
   "cell_type": "code",
   "execution_count": 33,
   "id": "5dde1bed",
   "metadata": {},
   "outputs": [],
   "source": [
    "models = {\n",
    "    'hist_gradient_boosting': HistGradientBoostingClassifier(random_state=42),\n",
    "    'lightgbm': LGBMClassifier(random_state=42, objective='binary', metric='accuracy'),\n",
    "}"
   ]
  },
  {
   "cell_type": "code",
   "execution_count": 34,
   "id": "4cca5edc",
   "metadata": {},
   "outputs": [],
   "source": [
    "cv = StratifiedKFold(n_splits=5, shuffle=True, random_state=42)"
   ]
  },
  {
   "cell_type": "code",
   "execution_count": 35,
   "id": "f1330ccc",
   "metadata": {},
   "outputs": [
    {
     "name": "stdout",
     "output_type": "stream",
     "text": [
      "[LightGBM] [Warning] Found whitespace in feature_names, replace with underlines\n",
      "[LightGBM] [Info] Number of positive: 2801, number of negative: 2762\n",
      "[LightGBM] [Info] Auto-choosing col-wise multi-threading, the overhead of testing was 0.001743 seconds.\n",
      "You can set `force_col_wise=true` to remove the overhead.\n",
      "[LightGBM] [Info] Total Bins 2538\n",
      "[LightGBM] [Info] Number of data points in the train set: 5563, number of used features: 53\n",
      "[LightGBM] [Info] [binary:BoostFromScore]: pavg=0.503505 -> initscore=0.014021\n",
      "[LightGBM] [Info] Start training from score 0.014021\n",
      "[LightGBM] [Warning] Found whitespace in feature_names, replace with underlines\n",
      "[LightGBM] [Info] Number of positive: 2801, number of negative: 2762\n",
      "[LightGBM] [Info] Auto-choosing row-wise multi-threading, the overhead of testing was 0.000934 seconds.\n",
      "You can set `force_row_wise=true` to remove the overhead.\n",
      "And if memory is not enough, you can set `force_col_wise=true`.\n",
      "[LightGBM] [Info] Total Bins 2539\n",
      "[LightGBM] [Info] Number of data points in the train set: 5563, number of used features: 53\n",
      "[LightGBM] [Info] [binary:BoostFromScore]: pavg=0.503505 -> initscore=0.014021\n",
      "[LightGBM] [Info] Start training from score 0.014021\n",
      "[LightGBM] [Warning] Found whitespace in feature_names, replace with underlines\n",
      "[LightGBM] [Info] Number of positive: 2802, number of negative: 2761\n",
      "[LightGBM] [Info] Auto-choosing row-wise multi-threading, the overhead of testing was 0.000918 seconds.\n",
      "You can set `force_row_wise=true` to remove the overhead.\n",
      "And if memory is not enough, you can set `force_col_wise=true`.\n",
      "[LightGBM] [Info] Total Bins 2537\n",
      "[LightGBM] [Info] Number of data points in the train set: 5563, number of used features: 53\n",
      "[LightGBM] [Info] [binary:BoostFromScore]: pavg=0.503685 -> initscore=0.014741\n",
      "[LightGBM] [Info] Start training from score 0.014741\n",
      "[LightGBM] [Warning] Found whitespace in feature_names, replace with underlines\n",
      "[LightGBM] [Info] Number of positive: 2802, number of negative: 2761\n",
      "[LightGBM] [Info] Auto-choosing row-wise multi-threading, the overhead of testing was 0.000856 seconds.\n",
      "You can set `force_row_wise=true` to remove the overhead.\n",
      "And if memory is not enough, you can set `force_col_wise=true`.\n",
      "[LightGBM] [Info] Total Bins 2540\n",
      "[LightGBM] [Info] Number of data points in the train set: 5563, number of used features: 53\n",
      "[LightGBM] [Info] [binary:BoostFromScore]: pavg=0.503685 -> initscore=0.014741\n",
      "[LightGBM] [Info] Start training from score 0.014741\n",
      "[LightGBM] [Warning] Found whitespace in feature_names, replace with underlines\n",
      "[LightGBM] [Info] Number of positive: 2802, number of negative: 2762\n",
      "[LightGBM] [Info] Auto-choosing row-wise multi-threading, the overhead of testing was 0.000926 seconds.\n",
      "You can set `force_row_wise=true` to remove the overhead.\n",
      "And if memory is not enough, you can set `force_col_wise=true`.\n",
      "[LightGBM] [Info] Total Bins 2540\n",
      "[LightGBM] [Info] Number of data points in the train set: 5564, number of used features: 53\n",
      "[LightGBM] [Info] [binary:BoostFromScore]: pavg=0.503595 -> initscore=0.014378\n",
      "[LightGBM] [Info] Start training from score 0.014378\n",
      "| Model                  | accuracy        | average precision   | recall          | weighted f1     | PR AUC          | MCC             |\n",
      "|------------------------|-----------------|---------------------|-----------------|-----------------|-----------------|-----------------|\n",
      "| hist_gradient_boosting | 0.8116 ± 0.0043 | 0.7565 ± 0.0052     | 0.8116 ± 0.0043 | 0.8116 ± 0.0043 | 0.7565 ± 0.0052 | 0.6233 ± 0.0086 |\n",
      "| lightgbm               | 0.8069 ± 0.0054 | 0.7515 ± 0.0058     | 0.8069 ± 0.0054 | 0.8069 ± 0.0054 | 0.7515 ± 0.0058 | 0.6139 ± 0.0107 |\n"
     ]
    }
   ],
   "source": [
    "r = get_results(models, x_train_processed, tr_y, cv)\n",
    "r.sort_values(by='accuracy', ascending=False)\n",
    "print(tabulate(r, headers='keys', tablefmt='github', showindex=False))"
   ]
  },
  {
   "cell_type": "markdown",
   "id": "0ba56431",
   "metadata": {},
   "source": [
    "Now, these tuned models can be tuned: "
   ]
  },
  {
   "cell_type": "markdown",
   "id": "2e88f9c6",
   "metadata": {},
   "source": [
    "## Hyperparameter Tuning: "
   ]
  },
  {
   "cell_type": "markdown",
   "id": "4743abbe",
   "metadata": {},
   "source": [
    "Defining a scoring dictionary: "
   ]
  },
  {
   "cell_type": "code",
   "execution_count": 36,
   "id": "cc6b8950",
   "metadata": {},
   "outputs": [],
   "source": [
    "scoring = {\n",
    "    'recall': make_scorer(recall_score, average='weighted'),\n",
    "    'accuracy': make_scorer(accuracy_score),\n",
    "    'weighted_f1': make_scorer(f1_score, average='weighted'),\n",
    "    'f2': make_scorer(fbeta_score, beta=2, average='weighted'),\n",
    "    'roc_auc': make_scorer(roc_auc_score),\n",
    "    'average_precision': make_scorer(average_precision_score),\n",
    "    'mcc': make_scorer(matthews_corrcoef), \n",
    "    'pr_auc': make_scorer(average_precision_score, average=\"macro\"),\n",
    "    'mcc' : make_scorer(matthews_corrcoef),\n",
    "    'balanced_accuracy' : make_scorer(balanced_accuracy_score)\n",
    "    }"
   ]
  },
  {
   "cell_type": "markdown",
   "id": "596610e7",
   "metadata": {},
   "source": [
    "### Hyperparameter tuning for lightgbm: "
   ]
  },
  {
   "cell_type": "markdown",
   "id": "a2fc8343",
   "metadata": {},
   "source": [
    "Bayesian optimizaiton is used here."
   ]
  },
  {
   "cell_type": "code",
   "execution_count": 37,
   "id": "05332af4",
   "metadata": {},
   "outputs": [
    {
     "name": "stdout",
     "output_type": "stream",
     "text": [
      "Best Parameters: OrderedDict({'class_weight': 'balanced', 'colsample_bytree': 1.0, 'learning_rate': 0.06566948008101758, 'max_depth': 6, 'min_child_samples': 10, 'n_estimators': 300, 'num_leaves': 15, 'reg_alpha': 0.0001, 'reg_lambda': 1.0, 'subsample': 0.7})\n"
     ]
    }
   ],
   "source": [
    "param_space_lgbm = {\n",
    "    'n_estimators': (100, 300),              \n",
    "    'max_depth': (3, 8),                     \n",
    "    'num_leaves': (15, 63),                  \n",
    "    'learning_rate': (0.05, 0.2, 'log-uniform'),  \n",
    "    'min_child_samples': (10, 50),          \n",
    "    'subsample': (0.7, 1.0),                 \n",
    "    'colsample_bytree': (0.7, 1.0),          \n",
    "    'reg_alpha': (1e-4, 1.0, 'log-uniform'), \n",
    "    'reg_lambda': (1e-4, 1.0, 'log-uniform'),\n",
    "    'class_weight': ['balanced', None]\n",
    "}\n",
    "\n",
    "lgbm = LGBMClassifier(random_state=42, verbose=-1)\n",
    "bayes_search = BayesSearchCV(\n",
    "    estimator=lgbm,\n",
    "    search_spaces=param_space_lgbm,\n",
    "    n_iter=100,\n",
    "    cv=cv,\n",
    "    scoring=\"accuracy\",\n",
    "    n_jobs=-1,\n",
    "    verbose=0,\n",
    "    random_state=42\n",
    ")\n",
    "bayes_search.fit(x_train_processed, tr_y)\n",
    "print(\"Best Parameters:\", bayes_search.best_params_)\n",
    "best_lgbm = bayes_search.best_estimator_\n",
    "\n",
    "new_row_base = get_results({'best_lgbm': best_lgbm}, x_train_processed, tr_y, cv)\n",
    "r = pd.concat([r, new_row_base], ignore_index=True)"
   ]
  },
  {
   "cell_type": "code",
   "execution_count": 38,
   "id": "e2a240cc",
   "metadata": {},
   "outputs": [
    {
     "data": {
      "text/html": [
       "<div>\n",
       "<style scoped>\n",
       "    .dataframe tbody tr th:only-of-type {\n",
       "        vertical-align: middle;\n",
       "    }\n",
       "\n",
       "    .dataframe tbody tr th {\n",
       "        vertical-align: top;\n",
       "    }\n",
       "\n",
       "    .dataframe thead th {\n",
       "        text-align: right;\n",
       "    }\n",
       "</style>\n",
       "<table border=\"1\" class=\"dataframe\">\n",
       "  <thead>\n",
       "    <tr style=\"text-align: right;\">\n",
       "      <th></th>\n",
       "      <th>Model</th>\n",
       "      <th>accuracy</th>\n",
       "      <th>average precision</th>\n",
       "      <th>recall</th>\n",
       "      <th>weighted f1</th>\n",
       "      <th>PR AUC</th>\n",
       "      <th>MCC</th>\n",
       "    </tr>\n",
       "  </thead>\n",
       "  <tbody>\n",
       "    <tr>\n",
       "      <th>2</th>\n",
       "      <td>best_lgbm</td>\n",
       "      <td>0.8118 ± 0.0039</td>\n",
       "      <td>0.7569 ± 0.0038</td>\n",
       "      <td>0.8118 ± 0.0039</td>\n",
       "      <td>0.8118 ± 0.0039</td>\n",
       "      <td>0.7569 ± 0.0038</td>\n",
       "      <td>0.6237 ± 0.0078</td>\n",
       "    </tr>\n",
       "    <tr>\n",
       "      <th>0</th>\n",
       "      <td>hist_gradient_boosting</td>\n",
       "      <td>0.8116 ± 0.0043</td>\n",
       "      <td>0.7565 ± 0.0052</td>\n",
       "      <td>0.8116 ± 0.0043</td>\n",
       "      <td>0.8116 ± 0.0043</td>\n",
       "      <td>0.7565 ± 0.0052</td>\n",
       "      <td>0.6233 ± 0.0086</td>\n",
       "    </tr>\n",
       "    <tr>\n",
       "      <th>1</th>\n",
       "      <td>lightgbm</td>\n",
       "      <td>0.8069 ± 0.0054</td>\n",
       "      <td>0.7515 ± 0.0058</td>\n",
       "      <td>0.8069 ± 0.0054</td>\n",
       "      <td>0.8069 ± 0.0054</td>\n",
       "      <td>0.7515 ± 0.0058</td>\n",
       "      <td>0.6139 ± 0.0107</td>\n",
       "    </tr>\n",
       "  </tbody>\n",
       "</table>\n",
       "</div>"
      ],
      "text/plain": [
       "                    Model         accuracy  ...           PR AUC              MCC\n",
       "2               best_lgbm  0.8118 ± 0.0039  ...  0.7569 ± 0.0038  0.6237 ± 0.0078\n",
       "0  hist_gradient_boosting  0.8116 ± 0.0043  ...  0.7565 ± 0.0052  0.6233 ± 0.0086\n",
       "1                lightgbm  0.8069 ± 0.0054  ...  0.7515 ± 0.0058  0.6139 ± 0.0107\n",
       "\n",
       "[3 rows x 7 columns]"
      ]
     },
     "execution_count": 38,
     "metadata": {},
     "output_type": "execute_result"
    }
   ],
   "source": [
    "r.sort_values(by='accuracy', ascending=False)"
   ]
  },
  {
   "cell_type": "markdown",
   "id": "07aa639d",
   "metadata": {},
   "source": [
    "### Hyperparameter tuning for HistGradientBoosting: "
   ]
  },
  {
   "cell_type": "code",
   "execution_count": 39,
   "id": "0f22c024",
   "metadata": {},
   "outputs": [
    {
     "name": "stdout",
     "output_type": "stream",
     "text": [
      "Best Parameters: OrderedDict({'class_weight': None, 'early_stopping': False, 'l2_regularization': 9.688790013255538, 'learning_rate': 0.21629253012809904, 'max_depth': 14, 'max_iter': 109, 'max_leaf_nodes': 18, 'min_samples_leaf': 16})\n"
     ]
    }
   ],
   "source": [
    "\n",
    "param_space_hgb = {\n",
    "    'learning_rate': Real(0.01, 0.3),\n",
    "    'max_iter': Integer(100, 300),\n",
    "    'max_depth': Integer(1, 15),\n",
    "    'min_samples_leaf': Integer(5, 50),\n",
    "    'l2_regularization': Real(0.0, 10.0),\n",
    "    'max_leaf_nodes': Integer(15, 100),\n",
    "    'early_stopping': Categorical([False]), \n",
    "    'class_weight': Categorical(['balanced', None])\n",
    "}\n",
    "\n",
    "hgb = HistGradientBoostingClassifier(random_state=42)\n",
    "\n",
    "bayes_search = BayesSearchCV(\n",
    "    estimator=hgb,\n",
    "    search_spaces=param_space_hgb,\n",
    "    n_iter=100, \n",
    "    cv=cv,\n",
    "    scoring=\"accuracy\",\n",
    "    n_jobs=-1,\n",
    "    verbose=0,\n",
    "    random_state=42\n",
    ")\n",
    "\n",
    "bayes_search.fit(x_train_processed, tr_y)\n",
    "print(\"Best Parameters:\", bayes_search.best_params_)\n",
    "best_hgb = bayes_search.best_estimator_\n",
    "new_row_base = get_results({'best_hgb': best_hgb}, x_train_processed, tr_y, cv)\n",
    "r = pd.concat([r, new_row_base], ignore_index=True)"
   ]
  },
  {
   "cell_type": "code",
   "execution_count": 40,
   "id": "a82e3e41",
   "metadata": {},
   "outputs": [
    {
     "data": {
      "text/html": [
       "<div>\n",
       "<style scoped>\n",
       "    .dataframe tbody tr th:only-of-type {\n",
       "        vertical-align: middle;\n",
       "    }\n",
       "\n",
       "    .dataframe tbody tr th {\n",
       "        vertical-align: top;\n",
       "    }\n",
       "\n",
       "    .dataframe thead th {\n",
       "        text-align: right;\n",
       "    }\n",
       "</style>\n",
       "<table border=\"1\" class=\"dataframe\">\n",
       "  <thead>\n",
       "    <tr style=\"text-align: right;\">\n",
       "      <th></th>\n",
       "      <th>Model</th>\n",
       "      <th>accuracy</th>\n",
       "      <th>average precision</th>\n",
       "      <th>recall</th>\n",
       "      <th>weighted f1</th>\n",
       "      <th>PR AUC</th>\n",
       "      <th>MCC</th>\n",
       "    </tr>\n",
       "  </thead>\n",
       "  <tbody>\n",
       "    <tr>\n",
       "      <th>3</th>\n",
       "      <td>best_hgb</td>\n",
       "      <td>0.8133 ± 0.0022</td>\n",
       "      <td>0.7585 ± 0.0025</td>\n",
       "      <td>0.8133 ± 0.0022</td>\n",
       "      <td>0.8133 ± 0.0022</td>\n",
       "      <td>0.7585 ± 0.0025</td>\n",
       "      <td>0.6268 ± 0.0043</td>\n",
       "    </tr>\n",
       "    <tr>\n",
       "      <th>2</th>\n",
       "      <td>best_lgbm</td>\n",
       "      <td>0.8118 ± 0.0039</td>\n",
       "      <td>0.7569 ± 0.0038</td>\n",
       "      <td>0.8118 ± 0.0039</td>\n",
       "      <td>0.8118 ± 0.0039</td>\n",
       "      <td>0.7569 ± 0.0038</td>\n",
       "      <td>0.6237 ± 0.0078</td>\n",
       "    </tr>\n",
       "    <tr>\n",
       "      <th>0</th>\n",
       "      <td>hist_gradient_boosting</td>\n",
       "      <td>0.8116 ± 0.0043</td>\n",
       "      <td>0.7565 ± 0.0052</td>\n",
       "      <td>0.8116 ± 0.0043</td>\n",
       "      <td>0.8116 ± 0.0043</td>\n",
       "      <td>0.7565 ± 0.0052</td>\n",
       "      <td>0.6233 ± 0.0086</td>\n",
       "    </tr>\n",
       "    <tr>\n",
       "      <th>1</th>\n",
       "      <td>lightgbm</td>\n",
       "      <td>0.8069 ± 0.0054</td>\n",
       "      <td>0.7515 ± 0.0058</td>\n",
       "      <td>0.8069 ± 0.0054</td>\n",
       "      <td>0.8069 ± 0.0054</td>\n",
       "      <td>0.7515 ± 0.0058</td>\n",
       "      <td>0.6139 ± 0.0107</td>\n",
       "    </tr>\n",
       "  </tbody>\n",
       "</table>\n",
       "</div>"
      ],
      "text/plain": [
       "                    Model         accuracy  ...           PR AUC              MCC\n",
       "3                best_hgb  0.8133 ± 0.0022  ...  0.7585 ± 0.0025  0.6268 ± 0.0043\n",
       "2               best_lgbm  0.8118 ± 0.0039  ...  0.7569 ± 0.0038  0.6237 ± 0.0078\n",
       "0  hist_gradient_boosting  0.8116 ± 0.0043  ...  0.7565 ± 0.0052  0.6233 ± 0.0086\n",
       "1                lightgbm  0.8069 ± 0.0054  ...  0.7515 ± 0.0058  0.6139 ± 0.0107\n",
       "\n",
       "[4 rows x 7 columns]"
      ]
     },
     "execution_count": 40,
     "metadata": {},
     "output_type": "execute_result"
    }
   ],
   "source": [
    "r.sort_values(by='accuracy', ascending=False)"
   ]
  },
  {
   "cell_type": "markdown",
   "id": "7f93bdf1",
   "metadata": {},
   "source": [
    "## Stacking models: "
   ]
  },
  {
   "cell_type": "markdown",
   "id": "4d07f725",
   "metadata": {},
   "source": [
    "It is possible that stacking these models will increase performance: "
   ]
  },
  {
   "cell_type": "code",
   "execution_count": 41,
   "id": "7659e1d1",
   "metadata": {},
   "outputs": [],
   "source": [
    "\n",
    "meta_learner = LogisticRegression(random_state=42, max_iter=10000)\n",
    "\n",
    "stacked_model = StackingClassifier(\n",
    "    estimators=[\n",
    "        ('hgb', best_hgb),\n",
    "        ('lgbm', best_lgbm)\n",
    "    ],\n",
    "    final_estimator=meta_learner,\n",
    "    passthrough=False, \n",
    "    cv=5,\n",
    "    n_jobs=-1\n",
    ")\n",
    "\n",
    "stacked_model.fit(x_train_processed, tr_y)\n",
    "new_row_base = get_results({'stacked': stacked_model}, x_train_processed, tr_y, cv)\n",
    "r = pd.concat([r, new_row_base], ignore_index=True)"
   ]
  },
  {
   "cell_type": "code",
   "execution_count": 42,
   "id": "0b1a06b1",
   "metadata": {},
   "outputs": [
    {
     "data": {
      "text/html": [
       "<div>\n",
       "<style scoped>\n",
       "    .dataframe tbody tr th:only-of-type {\n",
       "        vertical-align: middle;\n",
       "    }\n",
       "\n",
       "    .dataframe tbody tr th {\n",
       "        vertical-align: top;\n",
       "    }\n",
       "\n",
       "    .dataframe thead th {\n",
       "        text-align: right;\n",
       "    }\n",
       "</style>\n",
       "<table border=\"1\" class=\"dataframe\">\n",
       "  <thead>\n",
       "    <tr style=\"text-align: right;\">\n",
       "      <th></th>\n",
       "      <th>Model</th>\n",
       "      <th>accuracy</th>\n",
       "      <th>average precision</th>\n",
       "      <th>recall</th>\n",
       "      <th>weighted f1</th>\n",
       "      <th>PR AUC</th>\n",
       "      <th>MCC</th>\n",
       "    </tr>\n",
       "  </thead>\n",
       "  <tbody>\n",
       "    <tr>\n",
       "      <th>3</th>\n",
       "      <td>best_hgb</td>\n",
       "      <td>0.8133 ± 0.0022</td>\n",
       "      <td>0.7585 ± 0.0025</td>\n",
       "      <td>0.8133 ± 0.0022</td>\n",
       "      <td>0.8133 ± 0.0022</td>\n",
       "      <td>0.7585 ± 0.0025</td>\n",
       "      <td>0.6268 ± 0.0043</td>\n",
       "    </tr>\n",
       "    <tr>\n",
       "      <th>2</th>\n",
       "      <td>best_lgbm</td>\n",
       "      <td>0.8118 ± 0.0039</td>\n",
       "      <td>0.7569 ± 0.0038</td>\n",
       "      <td>0.8118 ± 0.0039</td>\n",
       "      <td>0.8118 ± 0.0039</td>\n",
       "      <td>0.7569 ± 0.0038</td>\n",
       "      <td>0.6237 ± 0.0078</td>\n",
       "    </tr>\n",
       "    <tr>\n",
       "      <th>0</th>\n",
       "      <td>hist_gradient_boosting</td>\n",
       "      <td>0.8116 ± 0.0043</td>\n",
       "      <td>0.7565 ± 0.0052</td>\n",
       "      <td>0.8116 ± 0.0043</td>\n",
       "      <td>0.8116 ± 0.0043</td>\n",
       "      <td>0.7565 ± 0.0052</td>\n",
       "      <td>0.6233 ± 0.0086</td>\n",
       "    </tr>\n",
       "    <tr>\n",
       "      <th>4</th>\n",
       "      <td>stacked</td>\n",
       "      <td>0.8112 ± 0.0058</td>\n",
       "      <td>0.7544 ± 0.0061</td>\n",
       "      <td>0.8112 ± 0.0058</td>\n",
       "      <td>0.8112 ± 0.0058</td>\n",
       "      <td>0.7544 ± 0.0061</td>\n",
       "      <td>0.6224 ± 0.0116</td>\n",
       "    </tr>\n",
       "    <tr>\n",
       "      <th>1</th>\n",
       "      <td>lightgbm</td>\n",
       "      <td>0.8069 ± 0.0054</td>\n",
       "      <td>0.7515 ± 0.0058</td>\n",
       "      <td>0.8069 ± 0.0054</td>\n",
       "      <td>0.8069 ± 0.0054</td>\n",
       "      <td>0.7515 ± 0.0058</td>\n",
       "      <td>0.6139 ± 0.0107</td>\n",
       "    </tr>\n",
       "  </tbody>\n",
       "</table>\n",
       "</div>"
      ],
      "text/plain": [
       "                    Model         accuracy  ...           PR AUC              MCC\n",
       "3                best_hgb  0.8133 ± 0.0022  ...  0.7585 ± 0.0025  0.6268 ± 0.0043\n",
       "2               best_lgbm  0.8118 ± 0.0039  ...  0.7569 ± 0.0038  0.6237 ± 0.0078\n",
       "0  hist_gradient_boosting  0.8116 ± 0.0043  ...  0.7565 ± 0.0052  0.6233 ± 0.0086\n",
       "4                 stacked  0.8112 ± 0.0058  ...  0.7544 ± 0.0061  0.6224 ± 0.0116\n",
       "1                lightgbm  0.8069 ± 0.0054  ...  0.7515 ± 0.0058  0.6139 ± 0.0107\n",
       "\n",
       "[5 rows x 7 columns]"
      ]
     },
     "execution_count": 42,
     "metadata": {},
     "output_type": "execute_result"
    }
   ],
   "source": [
    "r.sort_values(by='accuracy', ascending=False)"
   ]
  },
  {
   "cell_type": "markdown",
   "id": "f44dec9f",
   "metadata": {},
   "source": [
    "It looks like stacking these models does not increase when used with training data. "
   ]
  },
  {
   "cell_type": "markdown",
   "id": "960cd918",
   "metadata": {},
   "source": [
    "## Final SHAP examination: "
   ]
  },
  {
   "cell_type": "markdown",
   "id": "96863e10",
   "metadata": {},
   "source": [
    "Looking at Shapley summary plot for both models again can help to explain the relationship between the most important features and the likelihood of a passenger being transported to another dimension: "
   ]
  },
  {
   "cell_type": "code",
   "execution_count": 43,
   "id": "892738f4",
   "metadata": {},
   "outputs": [
    {
     "name": "stderr",
     "output_type": "stream",
     "text": [
      "/Users/bt/Documents/turing/ml_3/.venv/lib/python3.13/site-packages/shap/explainers/_tree.py:544: UserWarning: LightGBM binary classifier with TreeExplainer shap values output has changed to a list of ndarray\n",
      "  warnings.warn(\n"
     ]
    },
    {
     "name": "stdout",
     "output_type": "stream",
     "text": [
      "SHAP summary plot for LGBMClassifier:\n"
     ]
    },
    {
     "data": {
      "image/png": "[encoded data removed]",
      "text/plain": [
       "<Figure size 800x950 with 2 Axes>"
      ]
     },
     "metadata": {},
     "output_type": "display_data"
    },
    {
     "name": "stdout",
     "output_type": "stream",
     "text": [
      "SHAP summary plot for HistGradientBoostingClassifier:\n"
     ]
    },
    {
     "data": {
      "image/png": "[encoded data removed]",
      "text/plain": [
       "<Figure size 800x950 with 2 Axes>"
      ]
     },
     "metadata": {},
     "output_type": "display_data"
    }
   ],
   "source": [
    "explainer_lgb = shap.TreeExplainer(best_lgbm)\n",
    "shap_values_lgb = explainer_lgb.shap_values(x_train_processed)\n",
    "\n",
    "explainer_hist = shap.TreeExplainer(best_hgb)\n",
    "shap_values_hist = explainer_hist.shap_values(x_train_processed)\n",
    "\n",
    "print(\"SHAP summary plot for LGBMClassifier:\")\n",
    "shap.summary_plot(shap_values_lgb, x_train_processed)\n",
    "plt.show()\n",
    "\n",
    "print(\"SHAP summary plot for HistGradientBoostingClassifier:\")\n",
    "shap.summary_plot(shap_values_hist, x_train_processed)\n",
    "plt.show()\n"
   ]
  },
  {
   "cell_type": "markdown",
   "id": "2ff85c67",
   "metadata": {},
   "source": [
    "These plots show that the most important features are now the same for both models: Spa, CryoSleep_True or _False, tot_spend, and VRDeck. Notably, Spa, VRDeck, and tot_spend push the transported prediction towards 0, or towards a passenger not being transported. This means that higher spendings in the Spa, VRDeck, or in general reduce the chance of a passenger being transported. Interestingly, the FoodCourt variable shows the opposite trend, where spending more money in the FoodCourt increases chances of being transported to an alternate dimension. These plots also show that passengers that are in cryosleep are also transported more frequently to an alternate dimension. \n",
    "\n",
    "Both plots generally show the same features with the same feature directions, though feature importances towards the least important features varies between the two models. "
   ]
  },
  {
   "cell_type": "markdown",
   "id": "80f173f6",
   "metadata": {},
   "source": [
    "## Testing on holdout data: "
   ]
  },
  {
   "cell_type": "markdown",
   "id": "f0da42dc",
   "metadata": {},
   "source": [
    "Testing the light-gbm model on the test data: "
   ]
  },
  {
   "cell_type": "code",
   "execution_count": 44,
   "id": "28664fe2",
   "metadata": {},
   "outputs": [
    {
     "name": "stdout",
     "output_type": "stream",
     "text": [
      "              precision    recall  f1-score   support\n",
      "\n",
      "           0       0.80      0.82      0.81       863\n",
      "           1       0.82      0.80      0.81       876\n",
      "\n",
      "    accuracy                           0.81      1739\n",
      "   macro avg       0.81      0.81      0.81      1739\n",
      "weighted avg       0.81      0.81      0.81      1739\n",
      "\n"
     ]
    }
   ],
   "source": [
    "y_pred_lgbm = best_lgbm.predict(x_test_processed)\n",
    "print(classification_report(val_y, y_pred_lgbm))"
   ]
  },
  {
   "cell_type": "markdown",
   "id": "6570314b",
   "metadata": {},
   "source": [
    "Precision, recall, and f1-score all have scores of 0.81, which is expected from the training data. "
   ]
  },
  {
   "cell_type": "markdown",
   "id": "c9389102",
   "metadata": {},
   "source": [
    "Looking at the classificaiton report of the hist-gbm model: "
   ]
  },
  {
   "cell_type": "code",
   "execution_count": 45,
   "id": "481b6047",
   "metadata": {},
   "outputs": [
    {
     "name": "stdout",
     "output_type": "stream",
     "text": [
      "              precision    recall  f1-score   support\n",
      "\n",
      "           0       0.80      0.80      0.80       863\n",
      "           1       0.80      0.80      0.80       876\n",
      "\n",
      "    accuracy                           0.80      1739\n",
      "   macro avg       0.80      0.80      0.80      1739\n",
      "weighted avg       0.80      0.80      0.80      1739\n",
      "\n"
     ]
    }
   ],
   "source": [
    "y_pred_hgb = best_hgb.predict(x_test_processed)\n",
    "print(classification_report(val_y, y_pred_hgb))"
   ]
  },
  {
   "cell_type": "markdown",
   "id": "caa6b3ef",
   "metadata": {},
   "source": [
    "These scores are slightly lower than those for the light-gradient boosted model, with all scores being 0.80. "
   ]
  },
  {
   "cell_type": "markdown",
   "id": "90a3d61c",
   "metadata": {},
   "source": [
    "Now looking at the stacked model's classification report: "
   ]
  },
  {
   "cell_type": "code",
   "execution_count": 46,
   "id": "d78b6c6c",
   "metadata": {},
   "outputs": [
    {
     "name": "stdout",
     "output_type": "stream",
     "text": [
      "              precision    recall  f1-score   support\n",
      "\n",
      "           0       0.80      0.80      0.80       863\n",
      "           1       0.80      0.80      0.80       876\n",
      "\n",
      "    accuracy                           0.80      1739\n",
      "   macro avg       0.80      0.80      0.80      1739\n",
      "weighted avg       0.80      0.80      0.80      1739\n",
      "\n"
     ]
    }
   ],
   "source": [
    "y_pred_stack = stacked_model.predict(x_test_processed)\n",
    "print(classification_report(val_y, y_pred_hgb))"
   ]
  },
  {
   "cell_type": "markdown",
   "id": "d9cb0ab0",
   "metadata": {},
   "source": [
    "This gives the same result as that for the hist-gbm."
   ]
  },
  {
   "cell_type": "markdown",
   "id": "5db04f3f",
   "metadata": {},
   "source": [
    "Evaluating the three models on the holdout data gives:"
   ]
  },
  {
   "cell_type": "code",
   "execution_count": 47,
   "id": "6fd6332c",
   "metadata": {},
   "outputs": [],
   "source": [
    "y_holdout_proba = best_lgbm.predict_proba(x_test_processed)[:, 1]\n",
    "metrics_results = {\n",
    "   'accuracy': accuracy_score(val_y, y_pred_lgbm),\n",
    "   'precision': average_precision_score(val_y, y_holdout_proba),\n",
    "    'recall': recall_score(val_y, y_pred_lgbm, average='weighted'),\n",
    "    'weighted_f1': f1_score(val_y, y_pred_lgbm, average='weighted'),\n",
    "    'pr_auc': average_precision_score(val_y, y_holdout_proba),\n",
    "    'mcc': matthews_corrcoef(val_y, y_pred_lgbm)\n",
    "}\n",
    "\n",
    "model_name = \"Best lgbm-holdout\"  \n",
    "model_results = pd.DataFrame([[model_name] + list(metrics_results.values())], \n",
    "                             columns=r.columns)\n",
    "\n",
    "\n",
    "r = pd.concat([r, model_results], ignore_index=True)\n"
   ]
  },
  {
   "cell_type": "code",
   "execution_count": 48,
   "id": "80e6c1f8",
   "metadata": {},
   "outputs": [],
   "source": [
    "y_holdout_proba = best_hgb.predict_proba(x_test_processed)[:, 1]\n",
    "metrics_results = {\n",
    "   'accuracy': accuracy_score(val_y, y_pred_hgb),\n",
    "   'precision': average_precision_score(val_y, y_holdout_proba),\n",
    "    'recall': recall_score(val_y, y_pred_hgb, average='weighted'),\n",
    "    'weighted_f1': f1_score(val_y, y_pred_hgb, average='weighted'),\n",
    "    'pr_auc': average_precision_score(val_y, y_holdout_proba),\n",
    "    'mcc': matthews_corrcoef(val_y, y_pred_hgb)\n",
    "}\n",
    "\n",
    "model_name = \"Best hgb-holdout\"  \n",
    "model_results = pd.DataFrame([[model_name] + list(metrics_results.values())], \n",
    "                             columns=r.columns)\n",
    "\n",
    "\n",
    "r = pd.concat([r, model_results], ignore_index=True)"
   ]
  },
  {
   "cell_type": "code",
   "execution_count": 49,
   "id": "27eaf53e",
   "metadata": {},
   "outputs": [],
   "source": [
    "y_holdout_proba = stacked_model.predict_proba(x_test_processed)[:, 1]\n",
    "metrics_results = {\n",
    "   'accuracy': accuracy_score(val_y, y_pred_stack),\n",
    "   'precision': average_precision_score(val_y, y_holdout_proba),\n",
    "    'recall': recall_score(val_y, y_pred_stack, average='weighted'),\n",
    "    'weighted_f1': f1_score(val_y, y_pred_stack, average='weighted'),\n",
    "    'pr_auc': average_precision_score(val_y, y_holdout_proba),\n",
    "    'mcc': matthews_corrcoef(val_y, y_pred_stack)\n",
    "}\n",
    "\n",
    "model_name = \"Best stack-holdout\"  \n",
    "model_results = pd.DataFrame([[model_name] + list(metrics_results.values())], \n",
    "                             columns=r.columns)\n",
    "\n",
    "\n",
    "r = pd.concat([r, model_results], ignore_index=True)"
   ]
  },
  {
   "cell_type": "code",
   "execution_count": 50,
   "id": "538cd7ac",
   "metadata": {},
   "outputs": [
    {
     "data": {
      "text/html": [
       "<div>\n",
       "<style scoped>\n",
       "    .dataframe tbody tr th:only-of-type {\n",
       "        vertical-align: middle;\n",
       "    }\n",
       "\n",
       "    .dataframe tbody tr th {\n",
       "        vertical-align: top;\n",
       "    }\n",
       "\n",
       "    .dataframe thead th {\n",
       "        text-align: right;\n",
       "    }\n",
       "</style>\n",
       "<table border=\"1\" class=\"dataframe\">\n",
       "  <thead>\n",
       "    <tr style=\"text-align: right;\">\n",
       "      <th></th>\n",
       "      <th>Model</th>\n",
       "      <th>accuracy</th>\n",
       "      <th>average precision</th>\n",
       "      <th>recall</th>\n",
       "      <th>weighted f1</th>\n",
       "      <th>PR AUC</th>\n",
       "      <th>MCC</th>\n",
       "    </tr>\n",
       "  </thead>\n",
       "  <tbody>\n",
       "    <tr>\n",
       "      <th>0</th>\n",
       "      <td>hist_gradient_boosting</td>\n",
       "      <td>0.8116 ± 0.0043</td>\n",
       "      <td>0.7565 ± 0.0052</td>\n",
       "      <td>0.8116 ± 0.0043</td>\n",
       "      <td>0.8116 ± 0.0043</td>\n",
       "      <td>0.7565 ± 0.0052</td>\n",
       "      <td>0.6233 ± 0.0086</td>\n",
       "    </tr>\n",
       "    <tr>\n",
       "      <th>1</th>\n",
       "      <td>lightgbm</td>\n",
       "      <td>0.8069 ± 0.0054</td>\n",
       "      <td>0.7515 ± 0.0058</td>\n",
       "      <td>0.8069 ± 0.0054</td>\n",
       "      <td>0.8069 ± 0.0054</td>\n",
       "      <td>0.7515 ± 0.0058</td>\n",
       "      <td>0.6139 ± 0.0107</td>\n",
       "    </tr>\n",
       "    <tr>\n",
       "      <th>2</th>\n",
       "      <td>best_lgbm</td>\n",
       "      <td>0.8118 ± 0.0039</td>\n",
       "      <td>0.7569 ± 0.0038</td>\n",
       "      <td>0.8118 ± 0.0039</td>\n",
       "      <td>0.8118 ± 0.0039</td>\n",
       "      <td>0.7569 ± 0.0038</td>\n",
       "      <td>0.6237 ± 0.0078</td>\n",
       "    </tr>\n",
       "    <tr>\n",
       "      <th>3</th>\n",
       "      <td>best_hgb</td>\n",
       "      <td>0.8133 ± 0.0022</td>\n",
       "      <td>0.7585 ± 0.0025</td>\n",
       "      <td>0.8133 ± 0.0022</td>\n",
       "      <td>0.8133 ± 0.0022</td>\n",
       "      <td>0.7585 ± 0.0025</td>\n",
       "      <td>0.6268 ± 0.0043</td>\n",
       "    </tr>\n",
       "    <tr>\n",
       "      <th>4</th>\n",
       "      <td>stacked</td>\n",
       "      <td>0.8112 ± 0.0058</td>\n",
       "      <td>0.7544 ± 0.0061</td>\n",
       "      <td>0.8112 ± 0.0058</td>\n",
       "      <td>0.8112 ± 0.0058</td>\n",
       "      <td>0.7544 ± 0.0061</td>\n",
       "      <td>0.6224 ± 0.0116</td>\n",
       "    </tr>\n",
       "    <tr>\n",
       "      <th>5</th>\n",
       "      <td>Best lgbm-holdout</td>\n",
       "      <td>0.810811</td>\n",
       "      <td>0.924466</td>\n",
       "      <td>0.810811</td>\n",
       "      <td>0.810807</td>\n",
       "      <td>0.924466</td>\n",
       "      <td>0.621775</td>\n",
       "    </tr>\n",
       "    <tr>\n",
       "      <th>6</th>\n",
       "      <td>Best hgb-holdout</td>\n",
       "      <td>0.801035</td>\n",
       "      <td>0.921682</td>\n",
       "      <td>0.801035</td>\n",
       "      <td>0.801037</td>\n",
       "      <td>0.921682</td>\n",
       "      <td>0.602068</td>\n",
       "    </tr>\n",
       "    <tr>\n",
       "      <th>7</th>\n",
       "      <td>Best stack-holdout</td>\n",
       "      <td>0.810236</td>\n",
       "      <td>0.924431</td>\n",
       "      <td>0.810236</td>\n",
       "      <td>0.810237</td>\n",
       "      <td>0.924431</td>\n",
       "      <td>0.620458</td>\n",
       "    </tr>\n",
       "  </tbody>\n",
       "</table>\n",
       "</div>"
      ],
      "text/plain": [
       "                    Model         accuracy  ...           PR AUC              MCC\n",
       "0  hist_gradient_boosting  0.8116 ± 0.0043  ...  0.7565 ± 0.0052  0.6233 ± 0.0086\n",
       "1                lightgbm  0.8069 ± 0.0054  ...  0.7515 ± 0.0058  0.6139 ± 0.0107\n",
       "2               best_lgbm  0.8118 ± 0.0039  ...  0.7569 ± 0.0038  0.6237 ± 0.0078\n",
       "3                best_hgb  0.8133 ± 0.0022  ...  0.7585 ± 0.0025  0.6268 ± 0.0043\n",
       "4                 stacked  0.8112 ± 0.0058  ...  0.7544 ± 0.0061  0.6224 ± 0.0116\n",
       "5       Best lgbm-holdout         0.810811  ...         0.924466         0.621775\n",
       "6        Best hgb-holdout         0.801035  ...         0.921682         0.602068\n",
       "7      Best stack-holdout         0.810236  ...         0.924431         0.620458\n",
       "\n",
       "[8 rows x 7 columns]"
      ]
     },
     "execution_count": 50,
     "metadata": {},
     "output_type": "execute_result"
    }
   ],
   "source": [
    "r"
   ]
  },
  {
   "cell_type": "markdown",
   "id": "81569c8b",
   "metadata": {},
   "source": [
    "In terms of accuracy, the stacked model is the best performing with a score of 0.808511. This is slightly higher than the light gradient boosted model's score of 0.807361, with the histogram-based gradient boosting classifier having the lowest accuracy of 0.801035. "
   ]
  },
  {
   "cell_type": "markdown",
   "id": "73208a22",
   "metadata": {},
   "source": [
    "## Confusion Matrix: "
   ]
  },
  {
   "cell_type": "markdown",
   "id": "c2c06b8e",
   "metadata": {},
   "source": [
    "Finally, the confusion matrix for each model can be examined: "
   ]
  },
  {
   "cell_type": "code",
   "execution_count": 51,
   "id": "409c4159",
   "metadata": {},
   "outputs": [
    {
     "data": {
      "image/png": "[encoded data removed]",
      "text/plain": [
       "<Figure size 2000x600 with 6 Axes>"
      ]
     },
     "metadata": {},
     "output_type": "display_data"
    }
   ],
   "source": [
    "y_pred_lgbm= best_lgbm.predict(x_test_processed)\n",
    "y_pred_hgb = best_hgb.predict(x_test_processed)\n",
    "y_pred_stack = stacked_model.predict(x_test_processed)\n",
    "cm_lgbm= confusion_matrix(val_y, y_pred_lgbm)\n",
    "cm_hgb= confusion_matrix(val_y, y_pred_hgb)\n",
    "cm_stack= confusion_matrix(val_y, y_pred_stack)\n",
    "\n",
    "labels_lgbm = format_cm_labels(cm_lgbm)\n",
    "labels_hgb = format_cm_labels(cm_hgb)\n",
    "labels_stack = format_cm_labels(cm_stack)\n",
    "\n",
    "fig, axes = plt.subplots(nrows=1, ncols=3, figsize=(20, 6))\n",
    "\n",
    "sns.heatmap(cm_lgbm, annot=labels_lgbm, fmt=\"\", cmap=\"Blues\", ax=axes[0]).set(title=\"Confusion Matrix - Best lgbm\", xlabel = \"Predicted Labels\", ylabel = \"True Labels\")\n",
    "sns.heatmap(cm_hgb, annot=labels_hgb, fmt=\"\", cmap=\"Blues\", ax=axes[1]).set(title=\"Confusion Matrix - Best hgb\", xlabel = \"Predicted Labels\", ylabel = \"True Labels\")\n",
    "sns.heatmap(cm_stack, annot=labels_stack, fmt=\"\", cmap=\"Blues\", ax=axes[2]).set(title=\"Confusion Matrix - Best stack\", xlabel = \"Predicted Labels\", ylabel = \"True Labels\")\n",
    "\n",
    "axes[0].set_title(\"Confusion Matrix - Best lgbm\")\n",
    "axes[0].set_xlabel(\"Predicted Labels\")\n",
    "axes[0].set_ylabel(\"True Labels\")\n",
    "\n",
    "axes[1].set_title(\"Confusion Matrix - Best hgb\")\n",
    "axes[1].set_xlabel(\"Predicted Labels\")\n",
    "axes[1].set_ylabel(\"True Labels\")\n",
    "\n",
    "axes[2].set_title(\"Confusion Matrix - Best stack\")\n",
    "axes[2].set_xlabel(\"Predicted Labels\")\n",
    "axes[2].set_xlabel(\"True Labels\")\n",
    "\n",
    "plt.tight_layout()\n",
    "plt.show()\n"
   ]
  },
  {
   "cell_type": "markdown",
   "id": "b4e4dc08",
   "metadata": {},
   "source": [
    "The confusion matrix shows that the light gradient boosted model is the best at correctly classifying true negatives, while the stacked model is the best at correctly classifying true positives. Overall, the highest accuracy goes to the stacked model, though its performance is very close to that of the light-gbm."
   ]
  },
  {
   "cell_type": "markdown",
   "id": "4ddb5579",
   "metadata": {},
   "source": [
    "## Exporting results: "
   ]
  },
  {
   "cell_type": "markdown",
   "id": "1f1b1c40",
   "metadata": {},
   "source": [
    "Now, results can be exported for submission in the Kaggle competition: "
   ]
  },
  {
   "cell_type": "code",
   "execution_count": 52,
   "id": "72a03d2b",
   "metadata": {},
   "outputs": [],
   "source": [
    "y_pred = stacked_model.predict(real_x_train)\n",
    "results_df = test[['PassengerId']].copy()\n",
    "results_df['Transported'] = y_pred.astype(bool)\n"
   ]
  },
  {
   "cell_type": "code",
   "execution_count": 53,
   "id": "a74b4fa6",
   "metadata": {},
   "outputs": [],
   "source": [
    "results_df.to_csv('submission.csv', index=False)"
   ]
  },
  {
   "cell_type": "markdown",
   "id": "6781c0ec",
   "metadata": {},
   "source": [
    "Checking to make sure that the results are in the right format: "
   ]
  },
  {
   "cell_type": "code",
   "execution_count": 54,
   "id": "c9c615a6",
   "metadata": {},
   "outputs": [
    {
     "data": {
      "text/html": [
       "<div>\n",
       "<style scoped>\n",
       "    .dataframe tbody tr th:only-of-type {\n",
       "        vertical-align: middle;\n",
       "    }\n",
       "\n",
       "    .dataframe tbody tr th {\n",
       "        vertical-align: top;\n",
       "    }\n",
       "\n",
       "    .dataframe thead th {\n",
       "        text-align: right;\n",
       "    }\n",
       "</style>\n",
       "<table border=\"1\" class=\"dataframe\">\n",
       "  <thead>\n",
       "    <tr style=\"text-align: right;\">\n",
       "      <th></th>\n",
       "      <th>PassengerId</th>\n",
       "      <th>Transported</th>\n",
       "    </tr>\n",
       "  </thead>\n",
       "  <tbody>\n",
       "    <tr>\n",
       "      <th>0</th>\n",
       "      <td>0013_01</td>\n",
       "      <td>True</td>\n",
       "    </tr>\n",
       "    <tr>\n",
       "      <th>1</th>\n",
       "      <td>0018_01</td>\n",
       "      <td>False</td>\n",
       "    </tr>\n",
       "    <tr>\n",
       "      <th>2</th>\n",
       "      <td>0019_01</td>\n",
       "      <td>True</td>\n",
       "    </tr>\n",
       "    <tr>\n",
       "      <th>3</th>\n",
       "      <td>0021_01</td>\n",
       "      <td>True</td>\n",
       "    </tr>\n",
       "    <tr>\n",
       "      <th>4</th>\n",
       "      <td>0023_01</td>\n",
       "      <td>True</td>\n",
       "    </tr>\n",
       "    <tr>\n",
       "      <th>...</th>\n",
       "      <td>...</td>\n",
       "      <td>...</td>\n",
       "    </tr>\n",
       "    <tr>\n",
       "      <th>4272</th>\n",
       "      <td>9266_02</td>\n",
       "      <td>True</td>\n",
       "    </tr>\n",
       "    <tr>\n",
       "      <th>4273</th>\n",
       "      <td>9269_01</td>\n",
       "      <td>False</td>\n",
       "    </tr>\n",
       "    <tr>\n",
       "      <th>4274</th>\n",
       "      <td>9271_01</td>\n",
       "      <td>True</td>\n",
       "    </tr>\n",
       "    <tr>\n",
       "      <th>4275</th>\n",
       "      <td>9273_01</td>\n",
       "      <td>True</td>\n",
       "    </tr>\n",
       "    <tr>\n",
       "      <th>4276</th>\n",
       "      <td>9277_01</td>\n",
       "      <td>True</td>\n",
       "    </tr>\n",
       "  </tbody>\n",
       "</table>\n",
       "<p>4277 rows × 2 columns</p>\n",
       "</div>"
      ],
      "text/plain": [
       "     PassengerId  Transported\n",
       "0        0013_01         True\n",
       "1        0018_01        False\n",
       "2        0019_01         True\n",
       "3        0021_01         True\n",
       "4        0023_01         True\n",
       "...          ...          ...\n",
       "4272     9266_02         True\n",
       "4273     9269_01        False\n",
       "4274     9271_01         True\n",
       "4275     9273_01         True\n",
       "4276     9277_01         True\n",
       "\n",
       "[4277 rows x 2 columns]"
      ]
     },
     "execution_count": 54,
     "metadata": {},
     "output_type": "execute_result"
    }
   ],
   "source": [
    "results_df"
   ]
  },
  {
   "cell_type": "markdown",
   "id": "9ea87b7c",
   "metadata": {},
   "source": [
    "After submission to Kaggle, this prediction has received a score of 0.80453, which is acceptable for this project."
   ]
  },
  {
   "cell_type": "markdown",
   "id": "eae21d1e",
   "metadata": {},
   "source": [
    "# Summary and Conclusions: "
   ]
  },
  {
   "cell_type": "markdown",
   "id": "076b7387",
   "metadata": {},
   "source": [
    "This project had objective of classifying passengers on the _Spaceship Titanic_ that were transported to a new dimension post dust cloud collision. To do this, the data was explored and statistically tested before applying various machine learning models, and tuning these to obtain the highest accuracy possible. \n",
    "\n",
    "So far, exploratory data analysis has shown that: \n",
    "- Passengers are generally aged 20-40 years old, \n",
    "- 50% of passengers do not spend any money on billed variables (Room Service, Rood Court, Shopping Mall, Spa, and VRDeck), \n",
    "- Most people travel alone, \n",
    "- Most people are from Earth, \n",
    "- Most people did not choose to be in cryosleep, \n",
    "- The largest cabin_decks are G and F, and the smallest is cabin deck T. \n",
    "- Most people are travelling to TRAPPIST-1e, \n",
    "- Most people are not VIP passengers, and most people have unique names. \n",
    "\n",
    "As for passengers transported to another dimension, \n",
    "- This accounts for about half of total passengers (in the training data set).\n",
    "- Passengers that spend a total of over 750$ are less likely to get transported to another dimension. \n",
    "- Passengers travelling in group sizes from 2-7 people are transported a little more often than not. \n",
    "- Passengers from Europa have the highest rate of being transported compared to passengers from Earth or Mars. \n",
    "- Those in cryosleep have a higher chance of being transported than not (about 82% of those in cryosleep were transported to another dimension). \n",
    "- Passengers travelling to 55 Cancri e have a slightly higher chance of being transported than not.\n",
    "\n",
    "\n",
    "Statistical inference found that a quite a few features are related to transportation incidence to an alternate dimension, and are: \n",
    "- VIP,\n",
    "- All billed variables (RoomService_binned, FoodCourt_binned, ShoppingMall_binned, Spa_binned, VRDeck_binned, and tot_spend_binned), \n",
    "- group_size, \n",
    "- CryoSleep, \n",
    "- HomePlanet_Europa and HomePlanet_Earth, \n",
    "- Destination 55 Cancri e and TRAPPIST-1e, \n",
    "- Cabin_deck_B, C, D, E, F, \n",
    "- Cabin_side,\n",
    "- Age, and group number. \n",
    "\n",
    "From here, various models were tested on the training data. Gradient boosted models were found to be the best performing, and light-gbm was compared with hist-gbm to find the best accuracy overall while modifying features. These models were also stacked together to obtain a slightly higher accuracy. The final highest accuracy for test data was found to be 0.808511 with the stacked model, which corresponds to a score of 0.80453 on Kaggle’s submission board. This has a purpose of helping to correctly classify missing passengers from the spaceship and hopefully bring them to safety. \n",
    "\n",
    "The most important features for the tuned models were found to be the same using Shapley value plots: Spa, CryoSleep_True or _False, tot_spend, and VRDeck. Notably, Spa, VRDeck, and tot_spend push the transported prediction towards 0, or towards a passenger not being transported. This means that higher spendings in the Spa, VRDeck, or in general reduce the chance of a passenger being transported. Interestingly, the FoodCourt variable shows the opposite trend, where spending more money in the FoodCourt increases chances of being transported to an alternate dimension. In addition, passengers that are in cryosleep are also transported more frequently to an alternate dimension. \n",
    "\n",
    "To further improve this project, an automated feature engineering using a package such as feature tools could have been examined, to further enhance feature selection. Principal component analysis or another form of automated feature selection could also have been performed prior to final model selection, to ensure that the models used the most important features only, and could have helped for model explainability. In addition, additional models could have been tuned and added to the stacked model to hopefully improve accuracy score even more. \n"
   ]
  },
  {
   "cell_type": "markdown",
   "id": "8a94b139",
   "metadata": {},
   "source": [
    "# References: \n",
    "\n",
    "- Addison Howard, Ashley Chow, and Ryan Holbrook. Spaceship Titanic. https://kaggle.com/competitions/spaceship-titanic, 2022. Kaggle.\n",
    "- ChatGPT.\n"
   ]
  },
  {
   "cell_type": "markdown",
   "id": "dedf1127",
   "metadata": {},
   "source": [
    "# Appendix: Feature engineering exact steps and results"
   ]
  },
  {
   "cell_type": "markdown",
   "id": "08b6d642",
   "metadata": {},
   "source": [
    "## Feature Engineering Intermediate Results"
   ]
  },
  {
   "cell_type": "markdown",
   "id": "27e380cd",
   "metadata": {},
   "source": [
    "Following are shown tables of results for each described change to data processing techniques or feature modifications: "
   ]
  },
  {
   "cell_type": "markdown",
   "id": "ffc3eede",
   "metadata": {},
   "source": [
    "### Numerical variables imputation method as mean instead of median"
   ]
  },
  {
   "cell_type": "markdown",
   "id": "c210206f",
   "metadata": {},
   "source": [
    "To start, looking at what happens if the initial imputation method for numeric variables is with 'mean' and not 'median': "
   ]
  },
  {
   "cell_type": "markdown",
   "id": "64e2ef9e",
   "metadata": {},
   "source": [
    "| Model                  | accuracy        | average precision   | recall          | weighted f1     | PR AUC          | MCC             |\n",
    "|------------------------|-----------------|---------------------|-----------------|-----------------|-----------------|-----------------|\n",
    "| hist_gradient_boosting | 0.8049 ± 0.0049 | 0.7499 ± 0.0060     | 0.8049 ± 0.0049 | 0.8048 ± 0.0049 | 0.7499 ± 0.0060 | 0.6099 ± 0.0098 |\n",
    "| lightgbm               | 0.8041 ± 0.0053 | 0.7475 ± 0.0065     | 0.8041 ± 0.0053 | 0.8041 ± 0.0053 | 0.7475 ± 0.0065 | 0.6083 ± 0.0105 |"
   ]
  },
  {
   "cell_type": "markdown",
   "id": "6ccc93da",
   "metadata": {},
   "source": [
    "The accuracy here is lower than that of the initial models (0.8082 for hist_gradient_boosting). "
   ]
  },
  {
   "cell_type": "markdown",
   "id": "b6b210df",
   "metadata": {},
   "source": [
    "### Numerical features normalized"
   ]
  },
  {
   "cell_type": "markdown",
   "id": "ab2afa05",
   "metadata": {},
   "source": [
    "If the numerical features are normalized instead of standardized, this results in: "
   ]
  },
  {
   "cell_type": "markdown",
   "id": "fbc046bc",
   "metadata": {},
   "source": [
    "| Model                  | accuracy        | average precision   | recall          | weighted f1     | PR AUC          | MCC             |\n",
    "|------------------------|-----------------|---------------------|-----------------|-----------------|-----------------|-----------------|\n",
    "| hist_gradient_boosting | 0.8082 ± 0.0031 | 0.7521 ± 0.0038     | 0.8082 ± 0.0031 | 0.8082 ± 0.0031 | 0.7521 ± 0.0038 | 0.6164 ± 0.0062 |\n",
    "| lightgbm               | 0.8054 ± 0.0055 | 0.7494 ± 0.0059     | 0.8054 ± 0.0055 | 0.8054 ± 0.0055 | 0.7494 ± 0.0059 | 0.6109 ± 0.0109 |"
   ]
  },
  {
   "cell_type": "markdown",
   "id": "2c075f8c",
   "metadata": {},
   "source": [
    "This is essentially the same as with the initial version, with slightly higher performance for lightgbm. "
   ]
  },
  {
   "cell_type": "markdown",
   "id": "5f834e8f",
   "metadata": {},
   "source": [
    "### No standardization or normalization for numerical features:"
   ]
  },
  {
   "cell_type": "markdown",
   "id": "b21c1539",
   "metadata": {},
   "source": [
    "This results in: "
   ]
  },
  {
   "cell_type": "markdown",
   "id": "05c35075",
   "metadata": {},
   "source": [
    "| Model                  | accuracy        | average precision   | recall          | weighted f1     | PR AUC          | MCC             |\n",
    "|------------------------|-----------------|---------------------|-----------------|-----------------|-----------------|-----------------|\n",
    "| hist_gradient_boosting | 0.8085 ± 0.0035 | 0.7524 ± 0.0042     | 0.8085 ± 0.0035 | 0.8085 ± 0.0035 | 0.7524 ± 0.0042 | 0.6170 ± 0.0070 |\n",
    "| lightgbm               | 0.8043 ± 0.0072 | 0.7482 ± 0.0078     | 0.8043 ± 0.0072 | 0.8043 ± 0.0072 | 0.7482 ± 0.0078 | 0.6087 ± 0.0144 |"
   ]
  },
  {
   "cell_type": "markdown",
   "id": "e39618ba",
   "metadata": {},
   "source": [
    "This results in slightly higher performance for the hist_gradient boosted model, and about the same performance for the lightgbm as compared to the first models tested. "
   ]
  },
  {
   "cell_type": "markdown",
   "id": "a14e0c05",
   "metadata": {},
   "source": [
    "### Changing bin sizes for binned variables"
   ]
  },
  {
   "cell_type": "markdown",
   "id": "b3d2796f",
   "metadata": {},
   "source": [
    "What if the bin sizes are changed for the billed variables? In this case, there are three bins (0, 1-500, and 500+, or 0, 1-750, 750+ for tot_spend): "
   ]
  },
  {
   "cell_type": "markdown",
   "id": "339fe462",
   "metadata": {},
   "source": [
    "| Model                  | accuracy        | average precision   | recall          | weighted f1     | PR AUC          | MCC             |\n",
    "|------------------------|-----------------|---------------------|-----------------|-----------------|-----------------|-----------------|\n",
    "| hist_gradient_boosting | 0.8054 ± 0.0029 | 0.7482 ± 0.0029     | 0.8054 ± 0.0029 | 0.8054 ± 0.0029 | 0.7482 ± 0.0029 | 0.6109 ± 0.0058 |\n",
    "| lightgbm               | 0.8044 ± 0.0031 | 0.7472 ± 0.0037     | 0.8044 ± 0.0031 | 0.8044 ± 0.0031 | 0.7472 ± 0.0037 | 0.6089 ± 0.0061 |"
   ]
  },
  {
   "cell_type": "markdown",
   "id": "b4f5ed2b",
   "metadata": {},
   "source": [
    "This decreased the accuracy for both models. "
   ]
  },
  {
   "cell_type": "markdown",
   "id": "451d54d0",
   "metadata": {},
   "source": [
    "### Categorical variables imputation method as mode instead of 'missing'"
   ]
  },
  {
   "cell_type": "markdown",
   "id": "7311fd3a",
   "metadata": {},
   "source": [
    "If the missing categorical values are imputed as the most commun category of each group (for example, Earth for HomePlanet), this results in: "
   ]
  },
  {
   "cell_type": "markdown",
   "id": "7b993a1f",
   "metadata": {},
   "source": [
    "| Model                  | accuracy        | average precision   | recall          | weighted f1     | PR AUC          | MCC             |\n",
    "|------------------------|-----------------|---------------------|-----------------|-----------------|-----------------|-----------------|\n",
    "| hist_gradient_boosting | 0.8092 ± 0.0056 | 0.7527 ± 0.0060     | 0.8092 ± 0.0056 | 0.8092 ± 0.0057 | 0.7527 ± 0.0060 | 0.6184 ± 0.0112 |\n",
    "| lightgbm               | 0.8059 ± 0.0049 | 0.7482 ± 0.0055     | 0.8059 ± 0.0049 | 0.8058 ± 0.0049 | 0.7482 ± 0.0055 | 0.6118 ± 0.0099 |"
   ]
  },
  {
   "cell_type": "markdown",
   "id": "3fe22d1c",
   "metadata": {},
   "source": [
    "This is an improvement to the initial model's accuracy."
   ]
  },
  {
   "cell_type": "markdown",
   "id": "28d18d69",
   "metadata": {},
   "source": [
    "### Add log transformation for numerical features"
   ]
  },
  {
   "cell_type": "markdown",
   "id": "6c026c64",
   "metadata": {},
   "source": [
    "Adding log-transformed numerical features gives: "
   ]
  },
  {
   "cell_type": "markdown",
   "id": "369cd057",
   "metadata": {},
   "source": [
    "| Model                  | accuracy        | average precision   | recall          | weighted f1     | PR AUC          | MCC             |\n",
    "|------------------------|-----------------|---------------------|-----------------|-----------------|-----------------|-----------------|\n",
    "| hist_gradient_boosting | 0.8089 ± 0.0038 | 0.7531 ± 0.0040     | 0.8089 ± 0.0038 | 0.8089 ± 0.0038 | 0.7531 ± 0.0040 | 0.6178 ± 0.0076 |\n",
    "| lightgbm               | 0.8080 ± 0.0062 | 0.7522 ± 0.0071     | 0.8080 ± 0.0062 | 0.8080 ± 0.0062 | 0.7522 ± 0.0071 | 0.6162 ± 0.0123 |"
   ]
  },
  {
   "cell_type": "markdown",
   "id": "6b9f2f27",
   "metadata": {},
   "source": [
    "There is a slight increase in accuracy here as compared to the base models."
   ]
  },
  {
   "cell_type": "markdown",
   "id": "d684f87c",
   "metadata": {},
   "source": [
    "### What if the indicator columns are removed? "
   ]
  },
  {
   "cell_type": "markdown",
   "id": "9707e21f",
   "metadata": {},
   "source": [
    "This results in: "
   ]
  },
  {
   "cell_type": "markdown",
   "id": "d5fe86a3",
   "metadata": {},
   "source": [
    "| Model                  | accuracy        | average precision   | recall          | weighted f1     | PR AUC          | MCC             |\n",
    "|------------------------|-----------------|---------------------|-----------------|-----------------|-----------------|-----------------|\n",
    "| hist_gradient_boosting | 0.8067 ± 0.0058 | 0.7503 ± 0.0069     | 0.8067 ± 0.0058 | 0.8067 ± 0.0058 | 0.7503 ± 0.0069 | 0.6135 ± 0.0115 |\n",
    "| lightgbm               | 0.8063 ± 0.0050 | 0.7503 ± 0.0050     | 0.8063 ± 0.0050 | 0.8063 ± 0.0051 | 0.7503 ± 0.0050 | 0.6127 ± 0.0100 |"
   ]
  },
  {
   "cell_type": "markdown",
   "id": "c541d739",
   "metadata": {},
   "source": [
    "Removing indicator columns for missing values decreases accuracy of models."
   ]
  },
  {
   "cell_type": "markdown",
   "id": "1a2c299f",
   "metadata": {},
   "source": [
    "### What if the binned variables are removed? "
   ]
  },
  {
   "cell_type": "markdown",
   "id": "7542d9b5",
   "metadata": {},
   "source": [
    "This results in: "
   ]
  },
  {
   "cell_type": "markdown",
   "id": "7c834801",
   "metadata": {},
   "source": [
    "| Model                  | accuracy        | average precision   | recall          | weighted f1     | PR AUC          | MCC             |\n",
    "|------------------------|-----------------|---------------------|-----------------|-----------------|-----------------|-----------------|\n",
    "| hist_gradient_boosting | 0.8076 ± 0.0025 | 0.7509 ± 0.0034     | 0.8076 ± 0.0025 | 0.8076 ± 0.0025 | 0.7509 ± 0.0034 | 0.6152 ± 0.0050 |\n",
    "| lightgbm               | 0.8069 ± 0.0052 | 0.7508 ± 0.0064     | 0.8069 ± 0.0052 | 0.8069 ± 0.0052 | 0.7508 ± 0.0064 | 0.6138 ± 0.0104 |"
   ]
  },
  {
   "cell_type": "markdown",
   "id": "5049e03c",
   "metadata": {},
   "source": [
    "Removing binned variables also decreases accuracy for these two models."
   ]
  },
  {
   "cell_type": "markdown",
   "id": "15067765",
   "metadata": {},
   "source": [
    "### What if the raw billed variables are removed? "
   ]
  },
  {
   "cell_type": "markdown",
   "id": "ca9aae58",
   "metadata": {},
   "source": [
    "This results in: "
   ]
  },
  {
   "cell_type": "markdown",
   "id": "f3d44280",
   "metadata": {},
   "source": [
    "| Model                  | accuracy        | average precision   | recall          | weighted f1     | PR AUC          | MCC             |\n",
    "|------------------------|-----------------|---------------------|-----------------|-----------------|-----------------|-----------------|\n",
    "| hist_gradient_boosting | 0.7955 ± 0.0088 | 0.7398 ± 0.0088     | 0.7955 ± 0.0088 | 0.7955 ± 0.0088 | 0.7398 ± 0.0088 | 0.5913 ± 0.0173 |\n",
    "| lightgbm               | 0.7965 ± 0.0078 | 0.7409 ± 0.0080     | 0.7965 ± 0.0078 | 0.7965 ± 0.0078 | 0.7409 ± 0.0080 | 0.5933 ± 0.0155 |"
   ]
  },
  {
   "cell_type": "markdown",
   "id": "e3a33831",
   "metadata": {},
   "source": [
    "Having both raw billed variables as well as their binned counterparts increases model accuracy it seems. "
   ]
  },
  {
   "cell_type": "markdown",
   "id": "e2ca8984",
   "metadata": {},
   "source": [
    "### What if the tot_spend feature is removed? "
   ]
  },
  {
   "cell_type": "markdown",
   "id": "1f098c2f",
   "metadata": {},
   "source": [
    "This results in: "
   ]
  },
  {
   "cell_type": "markdown",
   "id": "f2f9e449",
   "metadata": {},
   "source": [
    "| Model                  | accuracy        | average precision   | recall          | weighted f1     | PR AUC          | MCC             |\n",
    "|------------------------|-----------------|---------------------|-----------------|-----------------|-----------------|-----------------|\n",
    "| hist_gradient_boosting | 0.8090 ± 0.0043 | 0.7537 ± 0.0055     | 0.8090 ± 0.0043 | 0.8090 ± 0.0043 | 0.7537 ± 0.0055 | 0.6182 ± 0.0087 |\n",
    "| lightgbm               | 0.8064 ± 0.0044 | 0.7505 ± 0.0053     | 0.8064 ± 0.0044 | 0.8064 ± 0.0044 | 0.7505 ± 0.0053 | 0.6130 ± 0.0089 |"
   ]
  },
  {
   "cell_type": "markdown",
   "id": "ca34609a",
   "metadata": {},
   "source": [
    "Which increases the accuracy of both models slightly. If tot_spend is removed as well as tot_spend_binned, the resulting table is: "
   ]
  },
  {
   "cell_type": "markdown",
   "id": "8481ec27",
   "metadata": {},
   "source": [
    "| Model                  | accuracy        | average precision   | recall          | weighted f1     | PR AUC          | MCC             |\n",
    "|------------------------|-----------------|---------------------|-----------------|-----------------|-----------------|-----------------|\n",
    "| hist_gradient_boosting | 0.8062 ± 0.0020 | 0.7502 ± 0.0022     | 0.8062 ± 0.0020 | 0.8061 ± 0.0020 | 0.7502 ± 0.0022 | 0.6124 ± 0.0039 |\n",
    "| lightgbm               | 0.8054 ± 0.0031 | 0.7489 ± 0.0040     | 0.8054 ± 0.0031 | 0.8054 ± 0.0031 | 0.7489 ± 0.0040 | 0.6110 ± 0.0063 |"
   ]
  },
  {
   "cell_type": "markdown",
   "id": "c3bf1472",
   "metadata": {},
   "source": [
    "This is less accurate than the original hist-gbm model with 0.8082 accuracy.\n"
   ]
  },
  {
   "cell_type": "markdown",
   "id": "f77122c7",
   "metadata": {},
   "source": [
    "### Shap features light-gbm"
   ]
  },
  {
   "cell_type": "markdown",
   "id": "6da4c644",
   "metadata": {},
   "source": [
    "Using the features shown in light-gbm's plot only gives: "
   ]
  },
  {
   "cell_type": "markdown",
   "id": "799d85d1",
   "metadata": {},
   "source": [
    "| Model                  | accuracy        | average precision   | recall          | weighted f1     | PR AUC          | MCC             |\n",
    "|------------------------|-----------------|---------------------|-----------------|-----------------|-----------------|-----------------|\n",
    "| hist_gradient_boosting | 0.8046 ± 0.0049 | 0.7481 ± 0.0052     | 0.8046 ± 0.0049 | 0.8046 ± 0.0049 | 0.7481 ± 0.0052 | 0.6092 ± 0.0098 |\n",
    "| lightgbm               | 0.8028 ± 0.0051 | 0.7465 ± 0.0051     | 0.8028 ± 0.0051 | 0.8028 ± 0.0051 | 0.7465 ± 0.0051 | 0.6058 ± 0.0101 |"
   ]
  },
  {
   "cell_type": "markdown",
   "id": "d221541f",
   "metadata": {},
   "source": [
    "Restricting the model's features results in a lower accuracy than the original model. "
   ]
  },
  {
   "cell_type": "markdown",
   "id": "fc91a58e",
   "metadata": {},
   "source": [
    "### Shap features hist-gbm"
   ]
  },
  {
   "cell_type": "markdown",
   "id": "d38b1a54",
   "metadata": {},
   "source": [
    "Evaluating the models with features shown in the hist-gbm's plot only gives: "
   ]
  },
  {
   "cell_type": "markdown",
   "id": "86c0c933",
   "metadata": {},
   "source": [
    "| Model                  | accuracy        | average precision   | recall          | weighted f1     | PR AUC          | MCC             |\n",
    "|------------------------|-----------------|---------------------|-----------------|-----------------|-----------------|-----------------|\n",
    "| hist_gradient_boosting | 0.8069 ± 0.0053 | 0.7508 ± 0.0049     | 0.8069 ± 0.0053 | 0.8069 ± 0.0053 | 0.7508 ± 0.0049 | 0.6138 ± 0.0104 |\n",
    "| lightgbm               | 0.8039 ± 0.0061 | 0.7469 ± 0.0070     | 0.8039 ± 0.0061 | 0.8039 ± 0.0061 | 0.7469 ± 0.0070 | 0.6077 ± 0.0123 "
   ]
  },
  {
   "cell_type": "markdown",
   "id": "f1d95595",
   "metadata": {},
   "source": [
    "This also results in lower overall accuracy than the first hist-gbm accuracy of 0.8082, and suggests that even unimportant features still contribute slightly to having better predictions for both models. \n",
    "\n",
    "Now, some features can be combined together to see if adding new features improves prediction accuracy. These features are added in the new_feat function in the preprocessing.py file."
   ]
  },
  {
   "cell_type": "markdown",
   "id": "308ad6e8",
   "metadata": {},
   "source": [
    "### Add feature: group and group_size"
   ]
  },
  {
   "cell_type": "markdown",
   "id": "b45154e8",
   "metadata": {},
   "source": [
    "Adding a new feature (group_mul_group_size), which is equal to a passenger's group number multiplied with their group size gives: "
   ]
  },
  {
   "cell_type": "markdown",
   "id": "dcd34067",
   "metadata": {},
   "source": [
    "| Model                  | accuracy        | average precision   | recall          | weighted f1     | PR AUC          | MCC             |\n",
    "|------------------------|-----------------|---------------------|-----------------|-----------------|-----------------|-----------------|\n",
    "| hist_gradient_boosting | 0.8098 ± 0.0056 | 0.7548 ± 0.0059     | 0.8098 ± 0.0056 | 0.8097 ± 0.0056 | 0.7548 ± 0.0059 | 0.6197 ± 0.0111 |\n",
    "| lightgbm               | 0.8073 ± 0.0068 | 0.7512 ± 0.0076     | 0.8073 ± 0.0068 | 0.8073 ± 0.0068 | 0.7512 ± 0.0076 | 0.6148 ± 0.0136 |"
   ]
  },
  {
   "cell_type": "markdown",
   "id": "ec5ec4d0",
   "metadata": {},
   "source": [
    "This is an increase in accuracy as compared to the initial case of 0.8082. \n",
    "\n",
    "Looking at group / group_size gives:"
   ]
  },
  {
   "cell_type": "markdown",
   "id": "2aa2ba06",
   "metadata": {},
   "source": [
    "| Model                  | accuracy        | average precision   | recall          | weighted f1     | PR AUC          | MCC             |\n",
    "|------------------------|-----------------|---------------------|-----------------|-----------------|-----------------|-----------------|\n",
    "| hist_gradient_boosting | 0.8100 ± 0.0031 | 0.7543 ± 0.0030     | 0.8100 ± 0.0031 | 0.8100 ± 0.0031 | 0.7543 ± 0.0030 | 0.6201 ± 0.0061 |\n",
    "| lightgbm               | 0.8059 ± 0.0071 | 0.7497 ± 0.0077     | 0.8059 ± 0.0071 | 0.8059 ± 0.0071 | 0.7497 ± 0.0077 | 0.6118 ± 0.0140 |"
   ]
  },
  {
   "cell_type": "markdown",
   "id": "48cd48a1",
   "metadata": {},
   "source": [
    "This also shows an increase in accuracy with the addition of the group_div_group_size feature."
   ]
  },
  {
   "cell_type": "markdown",
   "id": "ef7d3b31",
   "metadata": {},
   "source": [
    "### Add feature: spa and vrdeck"
   ]
  },
  {
   "cell_type": "markdown",
   "id": "9cefc638",
   "metadata": {},
   "source": [
    "Combining top features from the SHAP plots could increase model accuracy. Spa and vrdeck were important features for both models. Looking at the results from adding a feature that multiplies spa and vrdeck together gives: "
   ]
  },
  {
   "cell_type": "markdown",
   "id": "48bbf2dd",
   "metadata": {},
   "source": [
    "| Model                  | accuracy        | average precision   | recall          | weighted f1     | PR AUC          | MCC             |\n",
    "|------------------------|-----------------|---------------------|-----------------|-----------------|-----------------|-----------------|\n",
    "| hist_gradient_boosting | 0.8093 ± 0.0023 | 0.7536 ± 0.0024     | 0.8093 ± 0.0023 | 0.8093 ± 0.0023 | 0.7536 ± 0.0024 | 0.6187 ± 0.0044 |\n",
    "| lightgbm               | 0.8070 ± 0.0027 | 0.7512 ± 0.0034     | 0.8070 ± 0.0027 | 0.8070 ± 0.0027 | 0.7512 ± 0.0034 | 0.6141 ± 0.0055 |"
   ]
  },
  {
   "cell_type": "markdown",
   "id": "0675457e",
   "metadata": {},
   "source": [
    "This increases accuracy for both models as compared to the initial version. Looking at the results from adding spa / (vrdeck + 1), where one is added to the denominator, as many values are equal to zero, gives:"
   ]
  },
  {
   "cell_type": "markdown",
   "id": "2b1eca71",
   "metadata": {},
   "source": [
    "| Model                  | accuracy        | average precision   | recall          | weighted f1     | PR AUC          | MCC             |\n",
    "|------------------------|-----------------|---------------------|-----------------|-----------------|-----------------|-----------------|\n",
    "| hist_gradient_boosting | 0.8066 ± 0.0049 | 0.7508 ± 0.0052     | 0.8066 ± 0.0049 | 0.8066 ± 0.0049 | 0.7508 ± 0.0052 | 0.6133 ± 0.0098 |\n",
    "| lightgbm               | 0.8086 ± 0.0074 | 0.7522 ± 0.0079     | 0.8086 ± 0.0074 | 0.8086 ± 0.0074 | 0.7522 ± 0.0079 | 0.6173 ± 0.0148 |"
   ]
  },
  {
   "cell_type": "markdown",
   "id": "1dba9199",
   "metadata": {},
   "source": [
    "This addition decreased accuracy for hist-gbm and increased the accuracy for the light-gbm."
   ]
  },
  {
   "cell_type": "markdown",
   "id": "bd69a85e",
   "metadata": {},
   "source": [
    "### Add feature: spa, vrdeck, and group"
   ]
  },
  {
   "cell_type": "markdown",
   "id": "bc9e9f13",
   "metadata": {},
   "source": [
    "Since combinations of spa and vrdeck, as well as group and group_size increased model accuracy, maybe looking at linear combinations of these variables could also improve model accuracy. \n",
    "\n",
    "To start, looking at results for (spa*vrdeck)/group_number:"
   ]
  },
  {
   "cell_type": "markdown",
   "id": "2da026a8",
   "metadata": {},
   "source": [
    "| Model                  | accuracy        | average precision   | recall          | weighted f1     | PR AUC          | MCC             |\n",
    "|------------------------|-----------------|---------------------|-----------------|-----------------|-----------------|-----------------|\n",
    "| hist_gradient_boosting | 0.8095 ± 0.0052 | 0.7531 ± 0.0063     | 0.8095 ± 0.0052 | 0.8095 ± 0.0052 | 0.7531 ± 0.0063 | 0.6190 ± 0.0104 |\n",
    "| lightgbm               | 0.8086 ± 0.0045 | 0.7521 ± 0.0045     | 0.8086 ± 0.0045 | 0.8086 ± 0.0045 | 0.7521 ± 0.0045 | 0.6172 ± 0.0090 |"
   ]
  },
  {
   "cell_type": "markdown",
   "id": "58b96139",
   "metadata": {},
   "source": [
    "This increases accuracy for both models as compared to the base case (0.082 for hist-gbm and 0.8044 for light-gbm).\n",
    "\n",
    "Now, looking at results for the inverse of this: group_number / ((spa*vrdeck) + 1) gives: "
   ]
  },
  {
   "cell_type": "markdown",
   "id": "e77f93c5",
   "metadata": {},
   "source": [
    "| Model                  | accuracy        | average precision   | recall          | weighted f1     | PR AUC          | MCC             |\n",
    "|------------------------|-----------------|---------------------|-----------------|-----------------|-----------------|-----------------|\n",
    "| hist_gradient_boosting | 0.8073 ± 0.0028 | 0.7513 ± 0.0023     | 0.8073 ± 0.0028 | 0.8073 ± 0.0028 | 0.7513 ± 0.0023 | 0.6147 ± 0.0055 |\n",
    "| lightgbm               | 0.8054 ± 0.0066 | 0.7483 ± 0.0071     | 0.8054 ± 0.0066 | 0.8054 ± 0.0066 | 0.7483 ± 0.0071 | 0.6109 ± 0.0131 |"
   ]
  },
  {
   "cell_type": "markdown",
   "id": "a5c44678",
   "metadata": {},
   "source": [
    "This does not improve model accuracy."
   ]
  },
  {
   "cell_type": "markdown",
   "id": "554034fd",
   "metadata": {},
   "source": [
    "### Add feature: spa, vrdeck, and roomservice"
   ]
  },
  {
   "cell_type": "markdown",
   "id": "9c813511",
   "metadata": {},
   "source": [
    "Another important feature seen in the SHAP plot overview was roomservice. What if this feature is added with the combined spa_vrdeck features? Looking at accuracy when adding in (spa*vrdeck)/(roomservice+1):"
   ]
  },
  {
   "cell_type": "markdown",
   "id": "06bedcc5",
   "metadata": {},
   "source": [
    "| Model                  | accuracy        | average precision   | recall          | weighted f1     | PR AUC          | MCC             |\n",
    "|------------------------|-----------------|---------------------|-----------------|-----------------|-----------------|-----------------|\n",
    "| hist_gradient_boosting | 0.8080 ± 0.0069 | 0.7522 ± 0.0074     | 0.8080 ± 0.0069 | 0.8080 ± 0.0069 | 0.7522 ± 0.0074 | 0.6161 ± 0.0138 |\n",
    "| lightgbm               | 0.8096 ± 0.0065 | 0.7533 ± 0.0056     | 0.8096 ± 0.0065 | 0.8096 ± 0.0065 | 0.7533 ± 0.0056 | 0.6193 ± 0.0130 |"
   ]
  },
  {
   "cell_type": "markdown",
   "id": "4d03d5bf",
   "metadata": {},
   "source": [
    "The accuracy for hist_gradient_boosting is about the same as that of the initial models, but the one for lightgbm increased from 0.8044 to 0.8096! \n",
    "\n",
    "Looking at accuracy when adding these features multiplied together, spa* vrdeck* roomservice:"
   ]
  },
  {
   "cell_type": "markdown",
   "id": "8e287c0b",
   "metadata": {},
   "source": [
    "| Model                  | accuracy        | average precision   | recall          | weighted f1     | PR AUC          | MCC             |\n",
    "|------------------------|-----------------|---------------------|-----------------|-----------------|-----------------|-----------------|\n",
    "| hist_gradient_boosting | 0.8051 ± 0.0064 | 0.7487 ± 0.0077     | 0.8051 ± 0.0064 | 0.8051 ± 0.0064 | 0.7487 ± 0.0077 | 0.6103 ± 0.0128 |\n",
    "| lightgbm               | 0.8093 ± 0.0063 | 0.7535 ± 0.0066     | 0.8093 ± 0.0063 | 0.8093 ± 0.0063 | 0.7535 ± 0.0066 | 0.6187 ± 0.0126 |"
   ]
  },
  {
   "cell_type": "markdown",
   "id": "b25cddee",
   "metadata": {},
   "source": [
    "This shows a similar increase in accuracy for the lightgbm model, and a decrease in accuracy for the hist-gbm model. "
   ]
  }
 ],
 "metadata": {
  "kernelspec": {
   "display_name": "ml_3",
   "language": "python",
   "name": "ml_3"
  },
  "language_info": {
   "codemirror_mode": {
    "name": "ipython",
    "version": 3
   },
   "file_extension": ".py",
   "mimetype": "text/x-python",
   "name": "python",
   "nbconvert_exporter": "python",
   "pygments_lexer": "ipython3",
   "version": "3.13.2"
  }
 },
 "nbformat": 4,
 "nbformat_minor": 5
}
